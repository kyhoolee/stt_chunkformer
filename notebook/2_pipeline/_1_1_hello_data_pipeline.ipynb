{
 "cells": [
  {
   "cell_type": "code",
   "execution_count": null,
   "id": "31e579a1",
   "metadata": {},
   "outputs": [],
   "source": [
    "# Cell 2: import các thứ cần thiết\n",
    "import os\n",
    "import sys\n",
    "# nếu data.py nằm cùng thư mục notebook thì đảm bảo path\n",
    "sys.path.append(os.getcwd())\n",
    "\n",
    "from chunkformer_vpb.data.data import build_data\n",
    "\n",
    "# Cell 3: chạy pipeline với config\n",
    "config_path = \"_1_1_config.yaml\"\n",
    "build_data(config_path)"
   ]
  },
  {
   "cell_type": "code",
   "execution_count": null,
   "id": "b68a4564",
   "metadata": {},
   "outputs": [],
   "source": []
  },
  {
   "cell_type": "code",
   "execution_count": null,
   "id": "b6629fcf",
   "metadata": {},
   "outputs": [],
   "source": []
  }
 ],
 "metadata": {
  "kernelspec": {
   "display_name": "Python 3.10 (stt310)",
   "language": "python",
   "name": "stt310"
  },
  "language_info": {
   "name": "python",
   "version": "3.10.18"
  }
 },
 "nbformat": 4,
 "nbformat_minor": 5
}
