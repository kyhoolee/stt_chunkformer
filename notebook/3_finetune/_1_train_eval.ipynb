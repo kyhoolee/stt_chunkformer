{
 "cells": [
  {
   "cell_type": "code",
   "execution_count": null,
   "id": "9af15a2b",
   "metadata": {},
   "outputs": [],
   "source": [
    "\n",
    "from chunkformer_vpb.training import train as fine_tune_main\n",
    "\n",
    "CFG_PATH = \"../../config/finetune_config.yaml\"\n",
    "\n",
    "# 🔥 Gọi đúng hàm run_train (đã chỉnh sửa ở bước 1)\n",
    "fine_tune_main.run_train(cfg_path=CFG_PATH, smoke=True)\n"
   ]
  },
  {
   "cell_type": "code",
   "execution_count": null,
   "id": "e85f3a88",
   "metadata": {},
   "outputs": [],
   "source": []
  },
  {
   "cell_type": "code",
   "execution_count": null,
   "id": "1ec84898",
   "metadata": {},
   "outputs": [],
   "source": []
  },
  {
   "cell_type": "code",
   "execution_count": null,
   "id": "12933917",
   "metadata": {},
   "outputs": [],
   "source": []
  },
  {
   "cell_type": "code",
   "execution_count": null,
   "id": "9b2cad76",
   "metadata": {},
   "outputs": [],
   "source": []
  },
  {
   "cell_type": "code",
   "execution_count": null,
   "id": "8e26287f",
   "metadata": {},
   "outputs": [],
   "source": []
  }
 ],
 "metadata": {
  "kernelspec": {
   "display_name": "Python (stt310)",
   "language": "python",
   "name": "stt310"
  },
  "language_info": {
   "name": "python",
   "version": "3.10.18"
  }
 },
 "nbformat": 4,
 "nbformat_minor": 5
}
