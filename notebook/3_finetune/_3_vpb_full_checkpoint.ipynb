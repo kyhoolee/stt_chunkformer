{
 "cells": [
  {
   "cell_type": "code",
   "execution_count": 1,
   "id": "b0938a49",
   "metadata": {},
   "outputs": [
    {
     "name": "stderr",
     "output_type": "stream",
     "text": [
      "/home/kylh/.local/share/mamba/envs/stt310/lib/python3.10/site-packages/tqdm/auto.py:21: TqdmWarning: IProgress not found. Please update jupyter and ipywidgets. See https://ipywidgets.readthedocs.io/en/stable/user_install.html\n",
      "  from .autonotebook import tqdm as notebook_tqdm\n",
      "[2025-07-22 13:57:13] INFO: Checkpoint: loading from checkpoint ../../../chunkformer-large-vie/pytorch_model.bin for GPU\n"
     ]
    },
    {
     "name": "stdout",
     "output_type": "stream",
     "text": [
      "\n",
      "🧾 Loaded checkpoint from: ../../../chunkformer-large-vie/pytorch_model.bin\n",
      "📦 Checkpoint keys: ['encoder.global_cmvn.mean', 'encoder.global_cmvn.istd', 'encoder.embed.out.weight', 'encoder.embed.out.bias', 'encoder.embed.conv.0.weight'] ... (total 813)\n",
      "🔍 AED decoder head included in checkpoint? ✅ YES\n",
      "📊 Model total params: 113,852,240, trainable: 113,852,240\n",
      "!!!Vocab size: 6992\n"
     ]
    },
    {
     "data": {
      "text/plain": [
       "ASRModel(\n",
       "  (encoder): ChunkFormerEncoder(\n",
       "    (global_cmvn): GlobalCMVN()\n",
       "    (embed): DepthwiseConvSubsampling(\n",
       "      (pos_enc): StreamingRelPositionalEncoding(\n",
       "        (dropout): Dropout(p=0.1, inplace=False)\n",
       "      )\n",
       "      (out): Linear(in_features=4608, out_features=512, bias=True)\n",
       "      (conv): Sequential(\n",
       "        (0): Conv2d(1, 512, kernel_size=(3, 3), stride=(2, 2))\n",
       "        (1): ReLU()\n",
       "        (2): Conv2d(512, 512, kernel_size=(3, 3), stride=(2, 2), groups=512)\n",
       "        (3): Conv2d(512, 512, kernel_size=(1, 1), stride=(1, 1))\n",
       "        (4): ReLU()\n",
       "        (5): Conv2d(512, 512, kernel_size=(3, 3), stride=(2, 2), groups=512)\n",
       "        (6): Conv2d(512, 512, kernel_size=(1, 1), stride=(1, 1))\n",
       "        (7): ReLU()\n",
       "      )\n",
       "    )\n",
       "    (after_norm): LayerNorm((512,), eps=1e-05, elementwise_affine=True)\n",
       "    (encoders): ModuleList(\n",
       "      (0-16): 17 x ChunkFormerEncoderLayer(\n",
       "        (self_attn): ChunkAttentionWithRelativeRightContext(\n",
       "          (linear_q): Linear(in_features=512, out_features=512, bias=True)\n",
       "          (linear_k): Linear(in_features=512, out_features=512, bias=True)\n",
       "          (linear_v): Linear(in_features=512, out_features=512, bias=True)\n",
       "          (linear_out): Linear(in_features=512, out_features=512, bias=True)\n",
       "          (dropout): Dropout(p=0.1, inplace=False)\n",
       "          (linear_pos): Linear(in_features=512, out_features=512, bias=False)\n",
       "        )\n",
       "        (feed_forward): PositionwiseFeedForward(\n",
       "          (w_1): Linear(in_features=512, out_features=2048, bias=True)\n",
       "          (activation): SiLU()\n",
       "          (dropout): Dropout(p=0.1, inplace=False)\n",
       "          (w_2): Linear(in_features=2048, out_features=512, bias=True)\n",
       "        )\n",
       "        (feed_forward_macaron): PositionwiseFeedForward(\n",
       "          (w_1): Linear(in_features=512, out_features=2048, bias=True)\n",
       "          (activation): SiLU()\n",
       "          (dropout): Dropout(p=0.1, inplace=False)\n",
       "          (w_2): Linear(in_features=2048, out_features=512, bias=True)\n",
       "        )\n",
       "        (conv_module): ConvolutionModule(\n",
       "          (pointwise_conv1): Conv1d(512, 1024, kernel_size=(1,), stride=(1,))\n",
       "          (depthwise_conv): Conv1d(512, 512, kernel_size=(15,), stride=(1,), groups=512)\n",
       "          (norm): LayerNorm((512,), eps=1e-05, elementwise_affine=True)\n",
       "          (pointwise_conv2): Conv1d(512, 512, kernel_size=(1,), stride=(1,))\n",
       "          (activation): SiLU()\n",
       "        )\n",
       "        (norm_ff): LayerNorm((512,), eps=1e-05, elementwise_affine=True)\n",
       "        (norm_mha): LayerNorm((512,), eps=1e-05, elementwise_affine=True)\n",
       "        (norm_ff_macaron): LayerNorm((512,), eps=1e-05, elementwise_affine=True)\n",
       "        (norm_conv): LayerNorm((512,), eps=1e-05, elementwise_affine=True)\n",
       "        (norm_final): LayerNorm((512,), eps=1e-05, elementwise_affine=True)\n",
       "        (dropout): Dropout(p=0.1, inplace=False)\n",
       "      )\n",
       "    )\n",
       "    (ctc): CTC(\n",
       "      (ctc_lo): Linear(in_features=512, out_features=6992, bias=True)\n",
       "      (ctc_loss): CTCLoss()\n",
       "    )\n",
       "  )\n",
       "  (ctc): CTC(\n",
       "    (ctc_lo): Linear(in_features=512, out_features=6992, bias=True)\n",
       "    (ctc_loss): CTCLoss()\n",
       "  )\n",
       "  (criterion_att): LabelSmoothingLoss(\n",
       "    (criterion): KLDivLoss()\n",
       "  )\n",
       "  (decoder): BiTransformerDecoder(\n",
       "    (left_decoder): TransformerDecoder(\n",
       "      (embed): Sequential(\n",
       "        (0): Embedding(6992, 512)\n",
       "        (1): PositionalEncoding(\n",
       "          (dropout): Dropout(p=0.1, inplace=False)\n",
       "        )\n",
       "      )\n",
       "      (after_norm): LayerNorm((512,), eps=1e-05, elementwise_affine=True)\n",
       "      (output_layer): Linear(in_features=512, out_features=6992, bias=True)\n",
       "      (decoders): ModuleList(\n",
       "        (0-2): 3 x DecoderLayer(\n",
       "          (self_attn): MultiHeadedAttention(\n",
       "            (linear_q): Linear(in_features=512, out_features=512, bias=True)\n",
       "            (linear_k): Linear(in_features=512, out_features=512, bias=True)\n",
       "            (linear_v): Linear(in_features=512, out_features=512, bias=True)\n",
       "            (linear_out): Linear(in_features=512, out_features=512, bias=True)\n",
       "            (dropout): Dropout(p=0.0, inplace=False)\n",
       "          )\n",
       "          (src_attn): MultiHeadedCrossAttention(\n",
       "            (linear_q): Linear(in_features=512, out_features=512, bias=True)\n",
       "            (linear_k): Linear(in_features=512, out_features=512, bias=True)\n",
       "            (linear_v): Linear(in_features=512, out_features=512, bias=True)\n",
       "            (linear_out): Linear(in_features=512, out_features=512, bias=True)\n",
       "            (dropout): Dropout(p=0.0, inplace=False)\n",
       "          )\n",
       "          (feed_forward): PositionwiseFeedForward(\n",
       "            (w_1): Linear(in_features=512, out_features=2048, bias=True)\n",
       "            (activation): ReLU()\n",
       "            (dropout): Dropout(p=0.1, inplace=False)\n",
       "            (w_2): Linear(in_features=2048, out_features=512, bias=True)\n",
       "          )\n",
       "          (norm1): LayerNorm((512,), eps=1e-05, elementwise_affine=True)\n",
       "          (norm2): LayerNorm((512,), eps=1e-05, elementwise_affine=True)\n",
       "          (norm3): LayerNorm((512,), eps=1e-05, elementwise_affine=True)\n",
       "          (dropout): Dropout(p=0.1, inplace=False)\n",
       "        )\n",
       "      )\n",
       "    )\n",
       "    (right_decoder): TransformerDecoder(\n",
       "      (embed): Sequential(\n",
       "        (0): Embedding(6992, 512)\n",
       "        (1): PositionalEncoding(\n",
       "          (dropout): Dropout(p=0.1, inplace=False)\n",
       "        )\n",
       "      )\n",
       "      (after_norm): LayerNorm((512,), eps=1e-05, elementwise_affine=True)\n",
       "      (output_layer): Linear(in_features=512, out_features=6992, bias=True)\n",
       "      (decoders): ModuleList()\n",
       "    )\n",
       "  )\n",
       ")"
      ]
     },
     "execution_count": 1,
     "metadata": {},
     "output_type": "execute_result"
    }
   ],
   "source": [
    "from chunkformer_vpb.training.finetune_config import FinetuneConfig\n",
    "from chunkformer_vpb.training.optimizer import build_model_and_optimizer\n",
    "import torch\n",
    "\n",
    "# Load config\n",
    "cfg_path = \"../../config/vpb_finetune_config.yaml\"  # đổi path đúng\n",
    "cfg = FinetuneConfig.from_yaml(cfg_path)\n",
    "\n",
    "# Init model như khi train (không cần optimizer, scheduler nếu chỉ test)\n",
    "device = \"cpu\"\n",
    "model, tokenizer, _, _ = build_model_and_optimizer(cfg, device, total_steps=100)  # total_steps chỉ là placeholder\n",
    "model.to(device)\n"
   ]
  },
  {
   "cell_type": "code",
   "execution_count": 2,
   "id": "982df447",
   "metadata": {},
   "outputs": [
    {
     "name": "stdout",
     "output_type": "stream",
     "text": [
      "✅ Loaded checkpoint from checkpoints_vpb/epoch1.pt\n"
     ]
    }
   ],
   "source": [
    "ckpt_path = \"checkpoints_vpb/epoch1.pt\"\n",
    "state_dict = torch.load(ckpt_path, map_location=device)\n",
    "model.load_state_dict(state_dict)\n",
    "print(f\"✅ Loaded checkpoint from {ckpt_path}\")\n"
   ]
  },
  {
   "cell_type": "code",
   "execution_count": 3,
   "id": "4e489b3f",
   "metadata": {},
   "outputs": [
    {
     "name": "stdout",
     "output_type": "stream",
     "text": [
      "==================================\n",
      "../../../vpb_dataset\n",
      "==================================\n",
      "==================================\n",
      "../../../vpb_dataset\n",
      "==================================\n",
      "🎯 Dev WER (CTC): 23.68%\n",
      "🌐 Global WER           : 14.90%\n"
     ]
    }
   ],
   "source": [
    "from chunkformer_vpb.training.train import evaluate\n",
    "from chunkformer_vpb.training.data_loader import get_dataloaders\n",
    "\n",
    "train_loader, dev_loader = get_dataloaders(cfg)\n",
    "evaluate(model, tokenizer, dev_loader, cfg, device)\n"
   ]
  },
  {
   "cell_type": "code",
   "execution_count": 4,
   "metadata": {},
   "outputs": [
    {
     "name": "stdout",
     "output_type": "stream",
     "text": [
      "🎯 Dev WER (CTC): 20.44%\n",
      "🌐 Global WER           : 12.48%\n"
     ]
    }
   ],
   "source": [
    "evaluate(model, tokenizer, train_loader, cfg, device)"
   ]
  },
  {
   "cell_type": "code",
   "execution_count": null,
   "id": "a9909ce8",
   "metadata": {},
   "outputs": [],
   "source": []
  },
  {
   "cell_type": "code",
   "execution_count": null,
   "id": "8b7e9a71",
   "metadata": {},
   "outputs": [],
   "source": []
  },
  {
   "cell_type": "code",
   "execution_count": null,
   "id": "b9285a85",
   "metadata": {},
   "outputs": [],
   "source": []
  },
  {
   "cell_type": "code",
   "execution_count": null,
   "id": "61966ac8",
   "metadata": {},
   "outputs": [],
   "source": []
  },
  {
   "cell_type": "code",
   "execution_count": null,
   "id": "5842d0e1",
   "metadata": {},
   "outputs": [],
   "source": []
  },
  {
   "cell_type": "code",
   "execution_count": null,
   "id": "b41ce4fa",
   "metadata": {},
   "outputs": [],
   "source": []
  },
  {
   "cell_type": "code",
   "execution_count": null,
   "id": "c3246ada",
   "metadata": {},
   "outputs": [],
   "source": []
  },
  {
   "cell_type": "code",
   "execution_count": null,
   "id": "e0927789",
   "metadata": {},
   "outputs": [],
   "source": []
  },
  {
   "cell_type": "code",
   "execution_count": null,
   "id": "f08a21b1",
   "metadata": {},
   "outputs": [],
   "source": []
  },
  {
   "cell_type": "code",
   "execution_count": null,
   "id": "e271d3fd",
   "metadata": {},
   "outputs": [],
   "source": []
  },
  {
   "cell_type": "code",
   "execution_count": null,
   "id": "2c0de3b4",
   "metadata": {},
   "outputs": [],
   "source": []
  },
  {
   "cell_type": "code",
   "execution_count": null,
   "id": "6564c277",
   "metadata": {},
   "outputs": [],
   "source": []
  },
  {
   "cell_type": "code",
   "execution_count": null,
   "id": "7d19a78a",
   "metadata": {},
   "outputs": [],
   "source": []
  }
 ],
 "metadata": {
  "kernelspec": {
   "display_name": "Python (stt310)",
   "language": "python",
   "name": "stt310"
  },
  "language_info": {
   "codemirror_mode": {
    "name": "ipython",
    "version": 3
   },
   "file_extension": ".py",
   "mimetype": "text/x-python",
   "name": "python",
   "nbconvert_exporter": "python",
   "pygments_lexer": "ipython3",
   "version": "3.10.18"
  }
 },
 "nbformat": 4,
 "nbformat_minor": 5
}
