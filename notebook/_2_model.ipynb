{
 "cells": [
  {
   "cell_type": "code",
   "execution_count": 2,
   "id": "5e7c5f61",
   "metadata": {},
   "outputs": [
    {
     "name": "stdout",
     "output_type": "stream",
     "text": [
      "✅ Model loaded\n",
      "📚 Số lượng ký tự trong char_dict: 6992\n"
     ]
    }
   ],
   "source": [
    "import torch\n",
    "from chunkformer_vpb.model_utils import init, load_model_only\n",
    "\n",
    "# Đường dẫn tới model checkpoint\n",
    "model_checkpoint = \"../../chunkformer-large-vie\"\n",
    "\n",
    "# Chọn device\n",
    "device = torch.device(\"cuda\" if torch.cuda.is_available() else \"cpu\")\n",
    "\n",
    "# # Load model và char_dict\n",
    "# model, char_dict = init(model_checkpoint, device)\n",
    "# model.eval()  # Đặt về eval mode\n",
    "\n",
    "model, char_dict = load_model_only(model_checkpoint, device)\n",
    "\n",
    "print(\"✅ Model loaded\")\n",
    "print(\"📚 Số lượng ký tự trong char_dict:\", len(char_dict))\n",
    "\n"
   ]
  },
  {
   "cell_type": "code",
   "execution_count": 3,
   "id": "00b5449b",
   "metadata": {},
   "outputs": [
    {
     "name": "stdout",
     "output_type": "stream",
     "text": [
      "✅ Encoder output shape: torch.Size([1, 64, 512])\n"
     ]
    }
   ],
   "source": [
    "# Ví dụ forward dummy input nếu cần\n",
    "dummy_input = torch.randn(1, 100, 80).to(device)  # batch=1, time=100, mel=80\n",
    "x_len = torch.tensor([dummy_input.shape[1]], dtype=torch.int32).to(device)\n",
    "\n",
    "encoder_outs, encoder_lens, _, *_ = model.encoder.forward_parallel_chunk(\n",
    "    xs=dummy_input,\n",
    "    xs_origin_lens=x_len,\n",
    "    chunk_size=64,\n",
    "    left_context_size=128,\n",
    "    right_context_size=128,\n",
    "    att_cache=torch.zeros((model.encoder.num_blocks, 128, model.encoder.attention_heads,\n",
    "                           model.encoder._output_size * 2 // model.encoder.attention_heads), device=device),\n",
    "    cnn_cache=torch.zeros((model.encoder.num_blocks, model.encoder._output_size, model.encoder.cnn_module_kernel // 2), device=device),\n",
    "    truncated_context_size=64 * 4,\n",
    "    offset=torch.zeros(1, dtype=torch.int, device=device)\n",
    ")\n",
    "\n",
    "print(\"✅ Encoder output shape:\", encoder_outs.shape)\n"
   ]
  },
  {
   "cell_type": "code",
   "execution_count": 4,
   "id": "bc5cabc5",
   "metadata": {},
   "outputs": [
    {
     "name": "stdout",
     "output_type": "stream",
     "text": [
      "ASRModel(\n",
      "  (encoder): ChunkFormerEncoder(\n",
      "    (global_cmvn): GlobalCMVN()\n",
      "    (embed): DepthwiseConvSubsampling(\n",
      "      (pos_enc): StreamingRelPositionalEncoding(\n",
      "        (dropout): Dropout(p=0.1, inplace=False)\n",
      "      )\n",
      "      (out): Linear(in_features=4608, out_features=512, bias=True)\n",
      "      (conv): Sequential(\n",
      "        (0): Conv2d(1, 512, kernel_size=(3, 3), stride=(2, 2))\n",
      "        (1): ReLU()\n",
      "        (2): Conv2d(512, 512, kernel_size=(3, 3), stride=(2, 2), groups=512)\n",
      "        (3): Conv2d(512, 512, kernel_size=(1, 1), stride=(1, 1))\n",
      "        (4): ReLU()\n",
      "        (5): Conv2d(512, 512, kernel_size=(3, 3), stride=(2, 2), groups=512)\n",
      "        (6): Conv2d(512, 512, kernel_size=(1, 1), stride=(1, 1))\n",
      "        (7): ReLU()\n",
      "      )\n",
      "    )\n",
      "    (after_norm): LayerNorm((512,), eps=1e-05, elementwise_affine=True)\n",
      "    (encoders): ModuleList(\n",
      "      (0-16): 17 x ChunkFormerEncoderLayer(\n",
      "        (self_attn): StreamingRelPositionMultiHeadedAttention(\n",
      "          (linear_q): Linear(in_features=512, out_features=512, bias=True)\n",
      "          (linear_k): Linear(in_features=512, out_features=512, bias=True)\n",
      "          (linear_v): Linear(in_features=512, out_features=512, bias=True)\n",
      "          (linear_out): Linear(in_features=512, out_features=512, bias=True)\n",
      "          (dropout): Dropout(p=0.1, inplace=False)\n",
      "          (linear_pos): Linear(in_features=512, out_features=512, bias=False)\n",
      "        )\n",
      "        (feed_forward): PositionwiseFeedForward(\n",
      "          (w_1): Linear(in_features=512, out_features=2048, bias=True)\n",
      "          (activation): SiLU()\n",
      "          (dropout): Dropout(p=0.1, inplace=False)\n",
      "          (w_2): Linear(in_features=2048, out_features=512, bias=True)\n",
      "        )\n",
      "        (feed_forward_macaron): PositionwiseFeedForward(\n",
      "          (w_1): Linear(in_features=512, out_features=2048, bias=True)\n",
      "          (activation): SiLU()\n",
      "          (dropout): Dropout(p=0.1, inplace=False)\n",
      "          (w_2): Linear(in_features=2048, out_features=512, bias=True)\n",
      "        )\n",
      "        (conv_module): ConvolutionModule(\n",
      "          (pointwise_conv1): Conv1d(512, 1024, kernel_size=(1,), stride=(1,))\n",
      "          (depthwise_conv): Conv1d(512, 512, kernel_size=(15,), stride=(1,), groups=512)\n",
      "          (norm): LayerNorm((512,), eps=1e-05, elementwise_affine=True)\n",
      "          (pointwise_conv2): Conv1d(512, 512, kernel_size=(1,), stride=(1,))\n",
      "          (activation): SiLU()\n",
      "        )\n",
      "        (norm_ff): LayerNorm((512,), eps=1e-05, elementwise_affine=True)\n",
      "        (norm_mha): LayerNorm((512,), eps=1e-05, elementwise_affine=True)\n",
      "        (norm_ff_macaron): LayerNorm((512,), eps=1e-05, elementwise_affine=True)\n",
      "        (norm_conv): LayerNorm((512,), eps=1e-05, elementwise_affine=True)\n",
      "        (norm_final): LayerNorm((512,), eps=1e-05, elementwise_affine=True)\n",
      "        (dropout): Dropout(p=0.1, inplace=False)\n",
      "      )\n",
      "    )\n",
      "    (ctc): CTC(\n",
      "      (ctc_lo): Linear(in_features=512, out_features=6992, bias=True)\n",
      "      (ctc_loss): CTCLoss()\n",
      "    )\n",
      "  )\n",
      "  (ctc): CTC(\n",
      "    (ctc_lo): Linear(in_features=512, out_features=6992, bias=True)\n",
      "    (ctc_loss): CTCLoss()\n",
      "  )\n",
      ")\n"
     ]
    }
   ],
   "source": [
    "print(model)\n"
   ]
  },
  {
   "cell_type": "code",
   "execution_count": null,
   "id": "ba566a1e",
   "metadata": {},
   "outputs": [],
   "source": []
  },
  {
   "cell_type": "code",
   "execution_count": null,
   "id": "ff9eb3b5",
   "metadata": {},
   "outputs": [],
   "source": []
  },
  {
   "cell_type": "code",
   "execution_count": null,
   "id": "9531f0c5",
   "metadata": {},
   "outputs": [],
   "source": []
  },
  {
   "cell_type": "code",
   "execution_count": null,
   "id": "fd8c81da",
   "metadata": {},
   "outputs": [],
   "source": []
  },
  {
   "cell_type": "code",
   "execution_count": null,
   "id": "2236c439",
   "metadata": {},
   "outputs": [],
   "source": []
  }
 ],
 "metadata": {
  "kernelspec": {
   "display_name": "stt_lab (conda)",
   "language": "python",
   "name": "stt_lab"
  },
  "language_info": {
   "codemirror_mode": {
    "name": "ipython",
    "version": 3
   },
   "file_extension": ".py",
   "mimetype": "text/x-python",
   "name": "python",
   "nbconvert_exporter": "python",
   "pygments_lexer": "ipython3",
   "version": "3.9.12"
  }
 },
 "nbformat": 4,
 "nbformat_minor": 5
}
