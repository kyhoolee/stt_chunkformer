{
 "cells": [
  {
   "cell_type": "code",
   "execution_count": 2,
   "id": "e3757cae",
   "metadata": {},
   "outputs": [
    {
     "name": "stdout",
     "output_type": "stream",
     "text": [
      "Collecting pendulum\n",
      "  Downloading pendulum-3.1.0-cp310-cp310-manylinux_2_17_x86_64.manylinux2014_x86_64.whl.metadata (6.8 kB)\n",
      "Requirement already satisfied: jiwer in /home/kylh/.local/share/mamba/envs/stt310/lib/python3.10/site-packages (4.0.0)\n",
      "Requirement already satisfied: python-dateutil>=2.6 in /home/kylh/.local/share/mamba/envs/stt310/lib/python3.10/site-packages (from pendulum) (2.9.0.post0)\n",
      "Requirement already satisfied: tzdata>=2020.1 in /home/kylh/.local/share/mamba/envs/stt310/lib/python3.10/site-packages (from pendulum) (2025.2)\n",
      "Requirement already satisfied: click>=8.1.8 in /home/kylh/.local/share/mamba/envs/stt310/lib/python3.10/site-packages (from jiwer) (8.2.1)\n",
      "Requirement already satisfied: rapidfuzz>=3.9.7 in /home/kylh/.local/share/mamba/envs/stt310/lib/python3.10/site-packages (from jiwer) (3.13.0)\n",
      "Requirement already satisfied: six>=1.5 in /home/kylh/.local/share/mamba/envs/stt310/lib/python3.10/site-packages (from python-dateutil>=2.6->pendulum) (1.17.0)\n",
      "Downloading pendulum-3.1.0-cp310-cp310-manylinux_2_17_x86_64.manylinux2014_x86_64.whl (353 kB)\n",
      "Installing collected packages: pendulum\n",
      "Successfully installed pendulum-3.1.0\n"
     ]
    }
   ],
   "source": [
    "! pip install pendulum jiwer"
   ]
  },
  {
   "cell_type": "code",
   "execution_count": 4,
   "id": "a7b48929",
   "metadata": {},
   "outputs": [
    {
     "name": "stdout",
     "output_type": "stream",
     "text": [
      "🔍 Scanning folder: ../../../vpb_dataset/label/transcript_corrected_hieudm13_cutoff_20250721/transcript_corrected\n",
      "✅ Total processed in transcript_corrected: 1733\n",
      "----------------------------------------\n",
      "🔍 Scanning folder: ../../../vpb_dataset/label/transcripts_corrected_quangdm4_cutoff_21_7/transcripts_corrected\n",
      "✅ Total processed in transcripts_corrected: 2060\n",
      "----------------------------------------\n",
      "✅ Saved to df_call_metadata.csv\n",
      "🔎 Full dataset size: 3793\n",
      "📊 Overall WER: 0.15952658776462744\n",
      "🎙️ Agent samples: 2685\n",
      "🎯 Agent WER: 0.1342316933040844\n",
      "📞 Client samples: 1108\n",
      "🎯 Client WER: 0.25938144329896906\n"
     ]
    }
   ],
   "source": [
    "# %%\n",
    "import re\n",
    "import pendulum\n",
    "import jiwer\n",
    "import pandas as pd\n",
    "from pathlib import Path\n",
    "\n",
    "# %%\n",
    "corrected_dirs = [\n",
    "    # vpb_dataset/label/transcript_corrected_hieudm13_cutoff_20250721/transcript_corrected\n",
    "    # vpb_dataset/label/transcripts_corrected_quangdm4_cutoff_21_7/transcripts_corrected\n",
    "    Path(\"../../../vpb_dataset/label/transcript_corrected_hieudm13_cutoff_20250721/transcript_corrected\"),\n",
    "    Path(\"../../../vpb_dataset/label/transcripts_corrected_quangdm4_cutoff_21_7/transcripts_corrected\"),\n",
    "]\n",
    "\n",
    "# vpb_dataset/archive/tts_dataset_best_call_agent_audio/tts_dataset_best_call_agent_audio/transcripts\n",
    "predict_dir = Path(\"../../../vpb_dataset/archive/tts_dataset_best_call_agent_audio/tts_dataset_best_call_agent_audio/transcripts\")\n",
    "\n",
    "call_metadata = []\n",
    "\n",
    "for folder in corrected_dirs:\n",
    "    print(f\"🔍 Scanning folder: {folder}\")\n",
    "    count = 0\n",
    "\n",
    "    for filepath in folder.glob('*'):\n",
    "        if filepath.name.lower().startswith('e_'):\n",
    "            match = re.match(\n",
    "                r\"E_(.*?)_D_(\\d{4}-\\d{2}-\\d{2})_H_(\\d{2})(\\d{2})(\\d{2})_(\\d{3})_CLID_(\\d+)___.*\",\n",
    "                filepath.name\n",
    "            )\n",
    "\n",
    "            if match:\n",
    "                with open(filepath, encoding=\"utf-8\") as f:\n",
    "                    gold = f.read().strip()\n",
    "                if not gold:\n",
    "                    continue  # Skip empty transcript\n",
    "\n",
    "                pred_file = predict_dir / filepath.name\n",
    "                if not pred_file.exists():\n",
    "                    print(f\"⚠️ Missing prediction file for: {filepath.name}\")\n",
    "                    continue\n",
    "\n",
    "                with open(pred_file, encoding=\"utf-8\") as f:\n",
    "                    pred = f.read().strip()\n",
    "\n",
    "                agent_username = match.group(1)\n",
    "                business_date = pendulum.parse(match.group(2)).date()\n",
    "                ref_date = business_date.end_of('month')\n",
    "                call_time = f\"{match.group(2)} {match.group(3)}:{match.group(4)}:{match.group(5)}\"\n",
    "                phone_number = match.group(7)\n",
    "\n",
    "                call_metadata.append({\n",
    "                    'REF_DATE': ref_date,\n",
    "                    'BUSINESS_DATE': business_date,\n",
    "                    'AGENT_ID': agent_username,\n",
    "                    'CALL_START': call_time,\n",
    "                    'CALL_PHONE': phone_number,\n",
    "                    'FILE_NAME': filepath.name,\n",
    "                    'GOLD': gold,\n",
    "                    'PRED': pred,\n",
    "                })\n",
    "\n",
    "                count += 1\n",
    "\n",
    "    print(f\"✅ Total processed in {folder.name}: {count}\")\n",
    "    print(\"-\" * 40)\n",
    "\n",
    "# %%\n",
    "df = pd.DataFrame(call_metadata)\n",
    "df.to_csv(\"df_call_metadata.csv\", index=False)\n",
    "print(\"✅ Saved to df_call_metadata.csv\")\n",
    "\n",
    "# %%\n",
    "print(\"🔎 Full dataset size:\", len(df))\n",
    "print(\"📊 Overall WER:\", jiwer.wer(df['GOLD'].tolist(), df['PRED'].tolist()))\n",
    "\n",
    "# %% Filter agent side\n",
    "df_agent = df[df['FILE_NAME'].str.contains('___left')]\n",
    "print(\"🎙️ Agent samples:\", len(df_agent))\n",
    "print(\"🎯 Agent WER:\", jiwer.wer(df_agent['GOLD'].tolist(), df_agent['PRED'].tolist()))\n",
    "\n",
    "# %% Filter client side\n",
    "df_client = df[df['FILE_NAME'].str.contains('___right')]\n",
    "print(\"📞 Client samples:\", len(df_client))\n",
    "print(\"🎯 Client WER:\", jiwer.wer(df_client['GOLD'].tolist(), df_client['PRED'].tolist()))\n"
   ]
  },
  {
   "cell_type": "code",
   "execution_count": null,
   "id": "2f6efc80",
   "metadata": {},
   "outputs": [],
   "source": []
  },
  {
   "cell_type": "code",
   "execution_count": null,
   "id": "42567740",
   "metadata": {},
   "outputs": [],
   "source": []
  },
  {
   "cell_type": "code",
   "execution_count": null,
   "id": "b05cea24",
   "metadata": {},
   "outputs": [],
   "source": []
  },
  {
   "cell_type": "code",
   "execution_count": null,
   "metadata": {},
   "outputs": [],
   "source": []
  },
  {
   "cell_type": "code",
   "execution_count": null,
   "metadata": {},
   "outputs": [],
   "source": []
  },
  {
   "cell_type": "code",
   "execution_count": null,
   "id": "42fbd982",
   "metadata": {},
   "outputs": [],
   "source": []
  },
  {
   "cell_type": "code",
   "execution_count": null,
   "id": "8975101c",
   "metadata": {},
   "outputs": [],
   "source": []
  },
  {
   "cell_type": "code",
   "execution_count": null,
   "id": "d7ea3d7f",
   "metadata": {},
   "outputs": [],
   "source": []
  },
  {
   "cell_type": "code",
   "execution_count": null,
   "id": "d9e14842",
   "metadata": {},
   "outputs": [],
   "source": []
  },
  {
   "cell_type": "code",
   "execution_count": null,
   "id": "14cb5249",
   "metadata": {},
   "outputs": [],
   "source": []
  }
 ],
 "metadata": {
  "kernelspec": {
   "display_name": "Python (stt310)",
   "language": "python",
   "name": "stt310"
  },
  "language_info": {
   "codemirror_mode": {
    "name": "ipython",
    "version": 3
   },
   "file_extension": ".py",
   "mimetype": "text/x-python",
   "name": "python",
   "nbconvert_exporter": "python",
   "pygments_lexer": "ipython3",
   "version": "3.10.18"
  }
 },
 "nbformat": 4,
 "nbformat_minor": 5
}
