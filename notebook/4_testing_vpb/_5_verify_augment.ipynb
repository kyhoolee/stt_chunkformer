{
 "cells": [
  {
   "cell_type": "code",
   "execution_count": null,
   "id": "42d5f75e",
   "metadata": {},
   "outputs": [
    {
     "name": "stderr",
     "output_type": "stream",
     "text": [
      "/home/kylh/.local/share/mamba/envs/stt310/lib/python3.10/site-packages/tqdm/auto.py:21: TqdmWarning: IProgress not found. Please update jupyter and ipywidgets. See https://ipywidgets.readthedocs.io/en/stable/user_install.html\n",
      "  from .autonotebook import tqdm as notebook_tqdm\n"
     ]
    },
    {
     "name": "stdout",
     "output_type": "stream",
     "text": [
      "==================================\n",
      "../../../vpb_dataset\n",
      "==================================\n",
      "DataConfigFT(manifest_dir='../../../vpb_dataset/manifest_vpb_non_empty_full', audio_dir='../../../vpb_dataset', sample_rate=16000, num_mel_bins=80, frame_length=25, frame_shift=10, dither=0.0, energy_floor=0.0, train_meta_file='train_meta_augmented.json')\n",
      "🔍 Dataset length: 13652 samples\n"
     ]
    }
   ],
   "source": [
    "import torch\n",
    "from IPython.display import Audio, display\n",
    "from chunkformer_vpb.training.finetune_config import FinetuneConfig\n",
    "from chunkformer_vpb.training.data_loader import VivosDataset, collate_fn_entry\n",
    "from torch.utils.data import DataLoader\n",
    "\n",
    "# === Load config và dataset ===\n",
    "cfg = FinetuneConfig.from_yaml(\"../../config/aug_vpb_ctc_finetune_config.yaml\")\n",
    "train_ds = VivosDataset(cfg, \"train\")\n",
    "# print lenght dataset \n",
    "print(f\"🔍 Dataset length: {len(train_ds)} samples\")\n",
    "\n",
    "# === Tạo dataloader để iterate gốc (batch=1) ===\n",
    "train_loader = DataLoader(train_ds, batch_size=1, shuffle=False, collate_fn=collate_fn_entry)\n",
    "\n",
    "# === Bước 1: Lưu 10 sample gốc đầu tiên (có entry + waveform) ===\n",
    "base_entries = []\n",
    "entry_dict = {}  # map utt_id → (entry, wav) cho nhanh\n",
    "\n",
    "# === Step 1: Build entry_dict toàn bộ\n",
    "entry_dict = {}\n",
    "full_loader = DataLoader(train_ds, batch_size=1, shuffle=False, collate_fn=collate_fn_entry)\n",
    "for batch in full_loader:\n",
    "    _, _, _, _, entries = batch\n",
    "    entry, wav = entries[0]\n",
    "    utt_id = entry.utt_id if hasattr(entry, \"utt_id\") else entry[\"utt_id\"]\n",
    "    entry_dict[utt_id] = (entry, wav)\n",
    "\n",
    "# === Step 2: Lấy 10 bản gốc đầu tiên\n",
    "base_entries = [\n",
    "    (utt_id, entry, wav)\n",
    "    for utt_id, (entry, wav) in entry_dict.items()\n",
    "    if \"_aug\" not in utt_id\n",
    "][:10]\n",
    "\n",
    "# === Bước 2: Duyệt và phát audio gốc + từng bản augment đã load sẵn ===\n",
    "print(\"\\n🔁 Nghe các bản augment đã có trong dataset:\\n\")\n",
    "\n",
    "for base_utt, base_entry, base_wav in base_entries:\n",
    "    print(f\"\\n🧾 Gốc: {base_utt}\")\n",
    "    display(Audio(base_wav[0].numpy(), rate=cfg.data.sample_rate, autoplay=False))\n",
    "\n",
    "    # Dò augment\n",
    "    for suffix in [\"aug1\", \"aug2\", \"aug3\"]:\n",
    "        aug_utt = f\"{base_utt}_{suffix}\"\n",
    "        if aug_utt in entry_dict:\n",
    "            aug_entry, aug_wav = entry_dict[aug_utt]\n",
    "            aug_type = getattr(aug_entry, \"augment_type\", \"❓\")\n",
    "            print(f\"   ↳ 🌀 {aug_utt} | augment_type = {aug_type}\")\n",
    "            display(Audio(aug_wav[0].numpy(), rate=cfg.data.sample_rate, autoplay=False))\n",
    "        else:\n",
    "            print(f\"   ⚠️ Không tìm thấy {aug_utt}\")\n",
    "    print(\"-\" * 60)\n"
   ]
  },
  {
   "cell_type": "code",
   "execution_count": null,
   "metadata": {},
   "outputs": [],
   "source": []
  },
  {
   "cell_type": "code",
   "execution_count": null,
   "id": "cb3edfac",
   "metadata": {},
   "outputs": [],
   "source": []
  },
  {
   "cell_type": "code",
   "execution_count": null,
   "metadata": {},
   "outputs": [],
   "source": []
  },
  {
   "cell_type": "code",
   "execution_count": null,
   "id": "0383e9cf",
   "metadata": {},
   "outputs": [],
   "source": []
  },
  {
   "cell_type": "code",
   "execution_count": null,
   "id": "ac213628",
   "metadata": {},
   "outputs": [],
   "source": []
  },
  {
   "cell_type": "code",
   "execution_count": null,
   "id": "54aa8d48",
   "metadata": {},
   "outputs": [],
   "source": []
  },
  {
   "cell_type": "code",
   "execution_count": null,
   "id": "5e197ea7",
   "metadata": {},
   "outputs": [],
   "source": []
  },
  {
   "cell_type": "code",
   "execution_count": null,
   "id": "0f7f5abb",
   "metadata": {},
   "outputs": [],
   "source": []
  },
  {
   "cell_type": "code",
   "execution_count": null,
   "metadata": {},
   "outputs": [],
   "source": []
  }
 ],
 "metadata": {
  "kernelspec": {
   "display_name": "Python (stt310)",
   "language": "python",
   "name": "stt310"
  },
  "language_info": {
   "codemirror_mode": {
    "name": "ipython",
    "version": 3
   },
   "file_extension": ".py",
   "mimetype": "text/x-python",
   "name": "python",
   "nbconvert_exporter": "python",
   "pygments_lexer": "ipython3",
   "version": "3.10.18"
  }
 },
 "nbformat": 4,
 "nbformat_minor": 5
}
