{
 "cells": [
  {
   "cell_type": "code",
   "execution_count": 4,
   "id": "b57b4e65",
   "metadata": {},
   "outputs": [
    {
     "name": "stdout",
     "output_type": "stream",
     "text": [
      "Evaluating ../3_finetune/checkpoints_aug_vpb_ctc/epoch8.pt...\n",
      "==================================\n",
      "../../../vpb_dataset\n",
      "==================================\n",
      "DataConfigFT(manifest_dir='../../../vpb_dataset/standard_test', audio_dir='../../../vpb_dataset', sample_rate=16000, num_mel_bins=80, frame_length=25, frame_shift=10, dither=0.0, energy_floor=0.0, train_meta_file='train_meta.json')\n"
     ]
    },
    {
     "name": "stderr",
     "output_type": "stream",
     "text": [
      "[2025-07-30 15:17:06] INFO: Checkpoint: loading from checkpoint ../../../chunkformer-large-vie/pytorch_model.bin for GPU\n"
     ]
    },
    {
     "name": "stdout",
     "output_type": "stream",
     "text": [
      "\n",
      "🧾 Loaded checkpoint from: ../../../chunkformer-large-vie/pytorch_model.bin\n",
      "📦 Checkpoint keys: ['encoder.global_cmvn.mean', 'encoder.global_cmvn.istd', 'encoder.embed.out.weight', 'encoder.embed.out.bias', 'encoder.embed.conv.0.weight'] ... (total 813)\n",
      "🔍 AED decoder head included in checkpoint? ✅ YES\n",
      "📊 Model total params: 113,852,240, trainable: 113,852,240\n",
      "!!!Vocab size: 6992\n",
      "✅ Loading checkpoint from ../3_finetune/checkpoints_aug_vpb_ctc/epoch8.pt for model_id=ctc_epoch10\n",
      "🎯 Dev WER (CTC): 25.76%\n",
      "🌐 Global WER           : 15.70%\n",
      "🕒 Evaluate time: 30.53s (avg decode/sample: 0.99s)\n",
      "Evaluating ../3_finetune/checkpoints_vpb_ctc/epoch8.pt...\n",
      "==================================\n",
      "../../../vpb_dataset\n",
      "==================================\n",
      "DataConfigFT(manifest_dir='../../../vpb_dataset/standard_test', audio_dir='../../../vpb_dataset', sample_rate=16000, num_mel_bins=80, frame_length=25, frame_shift=10, dither=0.0, energy_floor=0.0, train_meta_file='train_meta.json')\n"
     ]
    },
    {
     "name": "stderr",
     "output_type": "stream",
     "text": [
      "[2025-07-30 15:17:39] INFO: Checkpoint: loading from checkpoint ../../../chunkformer-large-vie/pytorch_model.bin for GPU\n"
     ]
    },
    {
     "name": "stdout",
     "output_type": "stream",
     "text": [
      "\n",
      "🧾 Loaded checkpoint from: ../../../chunkformer-large-vie/pytorch_model.bin\n",
      "📦 Checkpoint keys: ['encoder.global_cmvn.mean', 'encoder.global_cmvn.istd', 'encoder.embed.out.weight', 'encoder.embed.out.bias', 'encoder.embed.conv.0.weight'] ... (total 813)\n",
      "🔍 AED decoder head included in checkpoint? ✅ YES\n",
      "📊 Model total params: 113,852,240, trainable: 113,852,240\n",
      "!!!Vocab size: 6992\n",
      "✅ Loading checkpoint from ../3_finetune/checkpoints_vpb_ctc/epoch8.pt for model_id=ctc_epoch10\n",
      "🎯 Dev WER (CTC): 25.52%\n",
      "🌐 Global WER           : 15.32%\n",
      "🕒 Evaluate time: 28.67s (avg decode/sample: 0.92s)\n",
      "Evaluating ../3_finetune/checkpoints_vpb_cmvn/epoch8.pt...\n",
      "==================================\n",
      "../../../vpb_dataset\n",
      "==================================\n",
      "DataConfigFT(manifest_dir='../../../vpb_dataset/standard_test', audio_dir='../../../vpb_dataset', sample_rate=16000, num_mel_bins=80, frame_length=25, frame_shift=10, dither=0.0, energy_floor=0.0, train_meta_file='train_meta.json')\n"
     ]
    },
    {
     "name": "stderr",
     "output_type": "stream",
     "text": [
      "[2025-07-30 15:18:14] INFO: Checkpoint: loading from checkpoint ../../../chunkformer-large-vie/pytorch_model.bin for GPU\n"
     ]
    },
    {
     "name": "stdout",
     "output_type": "stream",
     "text": [
      "\n",
      "🧾 Loaded checkpoint from: ../../../chunkformer-large-vie/pytorch_model.bin\n",
      "📦 Checkpoint keys: ['encoder.global_cmvn.mean', 'encoder.global_cmvn.istd', 'encoder.embed.out.weight', 'encoder.embed.out.bias', 'encoder.embed.conv.0.weight'] ... (total 813)\n",
      "🔍 AED decoder head included in checkpoint? ✅ YES\n",
      "📊 Model total params: 113,852,240, trainable: 113,852,240\n",
      "!!!Vocab size: 6992\n",
      "✅ Loading checkpoint from ../3_finetune/checkpoints_vpb_cmvn/epoch8.pt for model_id=ctc_epoch10\n",
      "🎯 Dev WER (CTC): 26.45%\n",
      "🌐 Global WER           : 15.54%\n",
      "🕒 Evaluate time: 24.59s (avg decode/sample: 0.79s)\n",
      "Evaluating ../3_finetune/checkpoints_vpb_chunk/epoch8.pt...\n",
      "==================================\n",
      "../../../vpb_dataset\n",
      "==================================\n",
      "DataConfigFT(manifest_dir='../../../vpb_dataset/standard_test', audio_dir='../../../vpb_dataset', sample_rate=16000, num_mel_bins=80, frame_length=25, frame_shift=10, dither=0.0, energy_floor=0.0, train_meta_file='train_meta.json')\n"
     ]
    },
    {
     "name": "stderr",
     "output_type": "stream",
     "text": [
      "[2025-07-30 15:18:45] INFO: Checkpoint: loading from checkpoint ../../../chunkformer-large-vie/pytorch_model.bin for GPU\n"
     ]
    },
    {
     "name": "stdout",
     "output_type": "stream",
     "text": [
      "\n",
      "🧾 Loaded checkpoint from: ../../../chunkformer-large-vie/pytorch_model.bin\n",
      "📦 Checkpoint keys: ['encoder.global_cmvn.mean', 'encoder.global_cmvn.istd', 'encoder.embed.out.weight', 'encoder.embed.out.bias', 'encoder.embed.conv.0.weight'] ... (total 813)\n",
      "🔍 AED decoder head included in checkpoint? ✅ YES\n",
      "📊 Model total params: 113,852,240, trainable: 113,852,240\n",
      "!!!Vocab size: 6992\n",
      "✅ Loading checkpoint from ../3_finetune/checkpoints_vpb_chunk/epoch8.pt for model_id=ctc_epoch10\n",
      "🎯 Dev WER (CTC): 25.99%\n",
      "🌐 Global WER           : 15.16%\n",
      "🕒 Evaluate time: 28.93s (avg decode/sample: 0.93s)\n"
     ]
    }
   ],
   "source": [
    "from chunkformer_vpb.training.tracker import prediction_std_test\n",
    "\n",
    "cfg_path = \"../../config/test_vpb_ctc_finetune_config.yaml\"\n",
    "cache_path = \"test_prediction_cache.json\"\n",
    "ckpt_paths = [\n",
    "    \"../3_finetune/checkpoints_aug_vpb_ctc/epoch8.pt\", \n",
    "    \"../3_finetune/checkpoints_vpb_ctc/epoch8.pt\", \n",
    "    \"../3_finetune/checkpoints_vpb_cmvn/epoch8.pt\", \n",
    "    \"../3_finetune/checkpoints_vpb_chunk/epoch8.pt\", \n",
    "\n",
    "]\n",
    "model_id = \"ctc_epoch10\"\n",
    "\n",
    "\n",
    "for ckpt_path in ckpt_paths:\n",
    "    print(f\"Evaluating {ckpt_path}...\")\n",
    "    # Call the prediction function for each checkpoint\n",
    "    prediction_std_test(\n",
    "        cfg_path=cfg_path,\n",
    "        cache_path=cache_path,\n",
    "        ckpt_path=ckpt_path,\n",
    "        model_id=model_id,\n",
    "        device=\"cpu\",\n",
    "        overwrite=False\n",
    "    )\n"
   ]
  },
  {
   "cell_type": "code",
   "execution_count": 5,
   "id": "b39af338",
   "metadata": {},
   "outputs": [
    {
     "data": {
      "text/plain": [
       "'\\n📊 Tổng số mẫu: 29\\n🎯 WER trung bình (sample avg): 24.87%\\n🌐 WER toàn cục   (global):     16.13%\\n'"
      ]
     },
     "execution_count": 5,
     "metadata": {},
     "output_type": "execute_result"
    }
   ],
   "source": [
    "'''\n",
    "📊 Tổng số mẫu: 29\n",
    "🎯 WER trung bình (sample avg): 24.87%\n",
    "🌐 WER toàn cục   (global):     16.13%\n",
    "\n",
    "\n",
    "| Checkpoint path                     | Mô hình                    | Dev WER (CTC) | Global WER | Decode Time (avg/sample) |\n",
    "| ----------------------------------- | -------------------------- | ------------- | ---------- | ------------------------ |\n",
    "| `checkpoints_aug_vpb_ctc/epoch8.pt` | Có augment (vol/speed/...) | **25.76%**    | 15.70%     | 0.99s                    |\n",
    "| `checkpoints_vpb_ctc/epoch8.pt`     | CTC chuẩn, không CMVN      | 25.52%        | 15.32%     | 0.92s                    |\n",
    "| `checkpoints_vpb_cmvn/epoch8.pt`    | Có CMVN                    | 26.45%        | 15.54%     | 0.79s                    |\n",
    "| `checkpoints_vpb_chunk/epoch8.pt`   | +Chunk masking             | 25.99%        | **15.16%** | 0.93s                    |\n",
    "\n",
    "'''"
   ]
  },
  {
   "cell_type": "code",
   "execution_count": null,
   "id": "43ba9383",
   "metadata": {},
   "outputs": [],
   "source": []
  },
  {
   "cell_type": "code",
   "execution_count": null,
   "id": "2b6defab",
   "metadata": {},
   "outputs": [],
   "source": []
  },
  {
   "cell_type": "code",
   "execution_count": null,
   "id": "c3367233",
   "metadata": {},
   "outputs": [],
   "source": []
  },
  {
   "cell_type": "code",
   "execution_count": null,
   "metadata": {},
   "outputs": [],
   "source": []
  },
  {
   "cell_type": "code",
   "execution_count": null,
   "id": "c453f582",
   "metadata": {},
   "outputs": [],
   "source": []
  },
  {
   "cell_type": "code",
   "execution_count": null,
   "id": "0cad21b8",
   "metadata": {},
   "outputs": [],
   "source": []
  },
  {
   "cell_type": "code",
   "execution_count": null,
   "id": "8d70ebe1",
   "metadata": {},
   "outputs": [],
   "source": []
  },
  {
   "cell_type": "code",
   "execution_count": null,
   "id": "26a5a28a",
   "metadata": {},
   "outputs": [],
   "source": []
  }
 ],
 "metadata": {
  "kernelspec": {
   "display_name": "Python (stt310)",
   "language": "python",
   "name": "stt310"
  },
  "language_info": {
   "codemirror_mode": {
    "name": "ipython",
    "version": 3
   },
   "file_extension": ".py",
   "mimetype": "text/x-python",
   "name": "python",
   "nbconvert_exporter": "python",
   "pygments_lexer": "ipython3",
   "version": "3.10.18"
  }
 },
 "nbformat": 4,
 "nbformat_minor": 5
}
