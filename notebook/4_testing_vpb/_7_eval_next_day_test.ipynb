{
 "cells": [
  {
   "cell_type": "code",
   "execution_count": 1,
   "id": "b57b4e65",
   "metadata": {},
   "outputs": [
    {
     "name": "stderr",
     "output_type": "stream",
     "text": [
      "/home/kylh/.local/share/mamba/envs/stt310/lib/python3.10/site-packages/tqdm/auto.py:21: TqdmWarning: IProgress not found. Please update jupyter and ipywidgets. See https://ipywidgets.readthedocs.io/en/stable/user_install.html\n",
      "  from .autonotebook import tqdm as notebook_tqdm\n"
     ]
    },
    {
     "name": "stdout",
     "output_type": "stream",
     "text": [
      "Evaluating ../3_finetune/checkpoints_aug_vpb_ctc/epoch8.pt...\n",
      "==================================\n",
      "../../../vpb_dataset\n",
      "==================================\n",
      "DataConfigFT(manifest_dir='../../../vpb_dataset/standard_test', audio_dir='../../../vpb_dataset', sample_rate=16000, num_mel_bins=80, frame_length=25, frame_shift=10, dither=0.0, energy_floor=0.0, train_meta_file='next_day_test_meta.json')\n"
     ]
    },
    {
     "name": "stderr",
     "output_type": "stream",
     "text": [
      "[2025-07-30 17:10:18] INFO: Checkpoint: loading from checkpoint ../../../chunkformer-large-vie/pytorch_model.bin for GPU\n"
     ]
    },
    {
     "name": "stdout",
     "output_type": "stream",
     "text": [
      "\n",
      "🧾 Loaded checkpoint from: ../../../chunkformer-large-vie/pytorch_model.bin\n",
      "📦 Checkpoint keys: ['encoder.global_cmvn.mean', 'encoder.global_cmvn.istd', 'encoder.embed.out.weight', 'encoder.embed.out.bias', 'encoder.embed.conv.0.weight'] ... (total 813)\n",
      "🔍 AED decoder head included in checkpoint? ✅ YES\n",
      "📊 Model total params: 113,852,240, trainable: 113,852,240\n",
      "!!!Vocab size: 6992\n",
      "✅ Loading checkpoint from ../3_finetune/checkpoints_aug_vpb_ctc/epoch8.pt for model_id=ctc_epoch10\n",
      "🎯 Dev WER (CTC): 18.70%\n",
      "🌐 Global WER           : 12.82%\n",
      "🕒 Evaluate time: 262.73s (avg decode/sample: 0.15s)\n",
      "Evaluating ../3_finetune/checkpoints_vpb_ctc/epoch8.pt...\n",
      "==================================\n",
      "../../../vpb_dataset\n",
      "==================================\n",
      "DataConfigFT(manifest_dir='../../../vpb_dataset/standard_test', audio_dir='../../../vpb_dataset', sample_rate=16000, num_mel_bins=80, frame_length=25, frame_shift=10, dither=0.0, energy_floor=0.0, train_meta_file='next_day_test_meta.json')\n"
     ]
    },
    {
     "name": "stderr",
     "output_type": "stream",
     "text": [
      "[2025-07-30 17:14:44] INFO: Checkpoint: loading from checkpoint ../../../chunkformer-large-vie/pytorch_model.bin for GPU\n"
     ]
    },
    {
     "name": "stdout",
     "output_type": "stream",
     "text": [
      "\n",
      "🧾 Loaded checkpoint from: ../../../chunkformer-large-vie/pytorch_model.bin\n",
      "📦 Checkpoint keys: ['encoder.global_cmvn.mean', 'encoder.global_cmvn.istd', 'encoder.embed.out.weight', 'encoder.embed.out.bias', 'encoder.embed.conv.0.weight'] ... (total 813)\n",
      "🔍 AED decoder head included in checkpoint? ✅ YES\n",
      "📊 Model total params: 113,852,240, trainable: 113,852,240\n",
      "!!!Vocab size: 6992\n",
      "✅ Loading checkpoint from ../3_finetune/checkpoints_vpb_ctc/epoch8.pt for model_id=ctc_epoch10\n",
      "🎯 Dev WER (CTC): 20.01%\n",
      "🌐 Global WER           : 12.96%\n",
      "🕒 Evaluate time: 273.83s (avg decode/sample: 0.16s)\n",
      "Evaluating ../3_finetune/checkpoints_vpb_cmvn/epoch8.pt...\n",
      "==================================\n",
      "../../../vpb_dataset\n",
      "==================================\n",
      "DataConfigFT(manifest_dir='../../../vpb_dataset/standard_test', audio_dir='../../../vpb_dataset', sample_rate=16000, num_mel_bins=80, frame_length=25, frame_shift=10, dither=0.0, energy_floor=0.0, train_meta_file='next_day_test_meta.json')\n"
     ]
    },
    {
     "name": "stderr",
     "output_type": "stream",
     "text": [
      "[2025-07-30 17:19:20] INFO: Checkpoint: loading from checkpoint ../../../chunkformer-large-vie/pytorch_model.bin for GPU\n"
     ]
    },
    {
     "name": "stdout",
     "output_type": "stream",
     "text": [
      "\n",
      "🧾 Loaded checkpoint from: ../../../chunkformer-large-vie/pytorch_model.bin\n",
      "📦 Checkpoint keys: ['encoder.global_cmvn.mean', 'encoder.global_cmvn.istd', 'encoder.embed.out.weight', 'encoder.embed.out.bias', 'encoder.embed.conv.0.weight'] ... (total 813)\n",
      "🔍 AED decoder head included in checkpoint? ✅ YES\n",
      "📊 Model total params: 113,852,240, trainable: 113,852,240\n",
      "!!!Vocab size: 6992\n",
      "✅ Loading checkpoint from ../3_finetune/checkpoints_vpb_cmvn/epoch8.pt for model_id=ctc_epoch10\n",
      "🎯 Dev WER (CTC): 19.05%\n",
      "🌐 Global WER           : 12.92%\n",
      "🕒 Evaluate time: 269.32s (avg decode/sample: 0.16s)\n",
      "Evaluating ../3_finetune/checkpoints_vpb_chunk/epoch8.pt...\n",
      "==================================\n",
      "../../../vpb_dataset\n",
      "==================================\n",
      "DataConfigFT(manifest_dir='../../../vpb_dataset/standard_test', audio_dir='../../../vpb_dataset', sample_rate=16000, num_mel_bins=80, frame_length=25, frame_shift=10, dither=0.0, energy_floor=0.0, train_meta_file='next_day_test_meta.json')\n"
     ]
    },
    {
     "name": "stderr",
     "output_type": "stream",
     "text": [
      "[2025-07-30 17:23:52] INFO: Checkpoint: loading from checkpoint ../../../chunkformer-large-vie/pytorch_model.bin for GPU\n"
     ]
    },
    {
     "name": "stdout",
     "output_type": "stream",
     "text": [
      "\n",
      "🧾 Loaded checkpoint from: ../../../chunkformer-large-vie/pytorch_model.bin\n",
      "📦 Checkpoint keys: ['encoder.global_cmvn.mean', 'encoder.global_cmvn.istd', 'encoder.embed.out.weight', 'encoder.embed.out.bias', 'encoder.embed.conv.0.weight'] ... (total 813)\n",
      "🔍 AED decoder head included in checkpoint? ✅ YES\n",
      "📊 Model total params: 113,852,240, trainable: 113,852,240\n",
      "!!!Vocab size: 6992\n",
      "✅ Loading checkpoint from ../3_finetune/checkpoints_vpb_chunk/epoch8.pt for model_id=ctc_epoch10\n",
      "🎯 Dev WER (CTC): 19.90%\n",
      "🌐 Global WER           : 12.89%\n",
      "🕒 Evaluate time: 269.80s (avg decode/sample: 0.16s)\n"
     ]
    }
   ],
   "source": [
    "from chunkformer_vpb.training.tracker import prediction_std_test\n",
    "\n",
    "cfg_path = \"../../config/test_next_day_finetune_config.yaml\"\n",
    "cache_path = \"test_prediction_cache.json\"\n",
    "ckpt_paths = [\n",
    "    \"../3_finetune/checkpoints_aug_vpb_ctc/epoch8.pt\", \n",
    "    \"../3_finetune/checkpoints_vpb_ctc/epoch8.pt\", \n",
    "    \"../3_finetune/checkpoints_vpb_cmvn/epoch8.pt\", \n",
    "    \"../3_finetune/checkpoints_vpb_chunk/epoch8.pt\", \n",
    "\n",
    "]\n",
    "model_id = \"ctc_epoch10\"\n",
    "\n",
    "\n",
    "for ckpt_path in ckpt_paths:\n",
    "    print(f\"Evaluating {ckpt_path}...\")\n",
    "    # Call the prediction function for each checkpoint\n",
    "    prediction_std_test(\n",
    "        cfg_path=cfg_path,\n",
    "        cache_path=cache_path,\n",
    "        ckpt_path=ckpt_path,\n",
    "        model_id=model_id,\n",
    "        device=\"cpu\",\n",
    "        overwrite=False\n",
    "    )\n"
   ]
  },
  {
   "cell_type": "code",
   "execution_count": 2,
   "id": "b39af338",
   "metadata": {},
   "outputs": [
    {
     "data": {
      "text/plain": [
       "'\\n📊 Tổng số mẫu: 29\\n🎯 WER trung bình (sample avg): 24.87%\\n🌐 WER toàn cục   (global):     16.13%\\n\\n\\n| Checkpoint path                     | Mô hình                    | Dev WER (CTC) | Global WER | Decode Time (avg/sample) |\\n| ----------------------------------- | -------------------------- | ------------- | ---------- | ------------------------ |\\n| `checkpoints_aug_vpb_ctc/epoch8.pt` | Có augment (vol/speed/...) | **25.76%**    | 15.70%     | 0.99s                    |\\n| `checkpoints_vpb_ctc/epoch8.pt`     | CTC chuẩn, không CMVN      | 25.52%        | 15.32%     | 0.92s                    |\\n| `checkpoints_vpb_cmvn/epoch8.pt`    | Có CMVN                    | 26.45%        | 15.54%     | 0.79s                    |\\n| `checkpoints_vpb_chunk/epoch8.pt`   | +Chunk masking             | 25.99%        | **15.16%** | 0.93s                    |\\n\\n'"
      ]
     },
     "execution_count": 2,
     "metadata": {},
     "output_type": "execute_result"
    }
   ],
   "source": [
    "'''\n",
    "📊 Tổng số mẫu: 29\n",
    "🎯 WER trung bình (sample avg): 24.87%\n",
    "🌐 WER toàn cục   (global):     16.13%\n",
    "\n",
    "\n",
    "| Checkpoint path                     | Mô hình                    | Dev WER (CTC) | Global WER | Decode Time (avg/sample) |\n",
    "| ----------------------------------- | -------------------------- | ------------- | ---------- | ------------------------ |\n",
    "| `checkpoints_aug_vpb_ctc/epoch8.pt` | Có augment (vol/speed/...) | **25.76%**    | 15.70%     | 0.99s                    |\n",
    "| `checkpoints_vpb_ctc/epoch8.pt`     | CTC chuẩn, không CMVN      | 25.52%        | 15.32%     | 0.92s                    |\n",
    "| `checkpoints_vpb_cmvn/epoch8.pt`    | Có CMVN                    | 26.45%        | 15.54%     | 0.79s                    |\n",
    "| `checkpoints_vpb_chunk/epoch8.pt`   | +Chunk masking             | 25.99%        | **15.16%** | 0.93s                    |\n",
    "\n",
    "'''"
   ]
  },
  {
   "cell_type": "code",
   "execution_count": null,
   "id": "43ba9383",
   "metadata": {},
   "outputs": [],
   "source": []
  },
  {
   "cell_type": "code",
   "execution_count": null,
   "id": "2b6defab",
   "metadata": {},
   "outputs": [],
   "source": []
  },
  {
   "cell_type": "code",
   "execution_count": null,
   "id": "c3367233",
   "metadata": {},
   "outputs": [],
   "source": []
  },
  {
   "cell_type": "code",
   "execution_count": null,
   "metadata": {},
   "outputs": [],
   "source": []
  },
  {
   "cell_type": "code",
   "execution_count": null,
   "id": "c453f582",
   "metadata": {},
   "outputs": [],
   "source": []
  },
  {
   "cell_type": "code",
   "execution_count": null,
   "id": "0cad21b8",
   "metadata": {},
   "outputs": [],
   "source": []
  },
  {
   "cell_type": "code",
   "execution_count": null,
   "id": "8d70ebe1",
   "metadata": {},
   "outputs": [],
   "source": []
  },
  {
   "cell_type": "code",
   "execution_count": null,
   "id": "26a5a28a",
   "metadata": {},
   "outputs": [],
   "source": []
  }
 ],
 "metadata": {
  "kernelspec": {
   "display_name": "Python (stt310)",
   "language": "python",
   "name": "stt310"
  },
  "language_info": {
   "codemirror_mode": {
    "name": "ipython",
    "version": 3
   },
   "file_extension": ".py",
   "mimetype": "text/x-python",
   "name": "python",
   "nbconvert_exporter": "python",
   "pygments_lexer": "ipython3",
   "version": "3.10.18"
  }
 },
 "nbformat": 4,
 "nbformat_minor": 5
}
