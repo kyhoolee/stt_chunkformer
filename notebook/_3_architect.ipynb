{
 "cells": [
  {
   "cell_type": "code",
   "execution_count": 1,
   "id": "e6fd1ab5",
   "metadata": {},
   "outputs": [],
   "source": [
    "# chunkformer_vpb/inference/dump_model_structure.py\n",
    "\n",
    "import os\n",
    "import torch\n",
    "from chunkformer_vpb.model_utils import init, dump_module_structure\n",
    "\n",
    "\n",
    "\n",
    "def main():\n",
    "    # === Config ===\n",
    "    model_checkpoint = \"../../chunkformer-large-vie\"  # adjust if needed\n",
    "    output_dir = \"model_architect\"\n",
    "    os.makedirs(output_dir, exist_ok=True)\n",
    "\n",
    "    # === Load model ===\n",
    "    device = torch.device(\"cuda\" if torch.cuda.is_available() else \"cpu\")\n",
    "    model, char_dict = init(model_checkpoint, device)\n",
    "    model.eval()\n",
    "\n",
    "    # === Dump full model ===\n",
    "    dump_module_structure(model, os.path.join(output_dir, \"full_model.txt\"), \"Full ASRModel\")\n",
    "\n",
    "    # === Dump encoder ===\n",
    "    dump_module_structure(model.encoder, os.path.join(output_dir, \"encoder.txt\"), \"Encoder\")\n",
    "\n",
    "    # === Dump CTC head ===\n",
    "    dump_module_structure(model.ctc, os.path.join(output_dir, \"ctc.txt\"), \"CTC Head\")\n",
    "\n",
    "    # === Optional: Dump decoder if exists ===\n",
    "    if hasattr(model, \"decoder\"):\n",
    "        dump_module_structure(model.decoder, os.path.join(output_dir, \"decoder.txt\"), \"Decoder\")\n",
    "\n",
    "    print(f\"✅ Done! Saved model structure to folder: {output_dir}\")\n",
    "\n",
    "\n"
   ]
  },
  {
   "cell_type": "code",
   "execution_count": 2,
   "id": "1875740b",
   "metadata": {},
   "outputs": [
    {
     "name": "stdout",
     "output_type": "stream",
     "text": [
      "✅ Done! Saved model structure to folder: model_architect\n"
     ]
    }
   ],
   "source": [
    "main()"
   ]
  },
  {
   "cell_type": "code",
   "execution_count": null,
   "id": "b07c2b5c",
   "metadata": {},
   "outputs": [],
   "source": []
  },
  {
   "cell_type": "code",
   "execution_count": null,
   "id": "c2bfca96",
   "metadata": {},
   "outputs": [],
   "source": []
  },
  {
   "cell_type": "code",
   "execution_count": null,
   "id": "92e58774",
   "metadata": {},
   "outputs": [],
   "source": []
  },
  {
   "cell_type": "code",
   "execution_count": null,
   "id": "8233e085",
   "metadata": {},
   "outputs": [],
   "source": []
  },
  {
   "cell_type": "code",
   "execution_count": null,
   "id": "fe566546",
   "metadata": {},
   "outputs": [],
   "source": []
  }
 ],
 "metadata": {
  "kernelspec": {
   "display_name": "stt_lab (conda)",
   "language": "python",
   "name": "stt_lab"
  },
  "language_info": {
   "codemirror_mode": {
    "name": "ipython",
    "version": 3
   },
   "file_extension": ".py",
   "mimetype": "text/x-python",
   "name": "python",
   "nbconvert_exporter": "python",
   "pygments_lexer": "ipython3",
   "version": "3.9.12"
  }
 },
 "nbformat": 4,
 "nbformat_minor": 5
}
