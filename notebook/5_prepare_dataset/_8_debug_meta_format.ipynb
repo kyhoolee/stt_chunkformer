{
 "cells": [
  {
   "cell_type": "code",
   "execution_count": 1,
   "id": "2ba003aa",
   "metadata": {},
   "outputs": [
    {
     "name": "stdout",
     "output_type": "stream",
     "text": [
      "✅ Chuyển đổi 29 dòng sang format debug tại: ../../../vpb_dataset/standard_test/test_meta_debug.json\n"
     ]
    }
   ],
   "source": [
    "import json\n",
    "from pathlib import Path\n",
    "\n",
    "def convert_meta_to_debug_format(input_path, output_path):\n",
    "    with open(input_path, \"r\", encoding=\"utf-8\") as f:\n",
    "        original_entries = json.load(f)\n",
    "\n",
    "    debug_entries = []\n",
    "    for entry in original_entries:\n",
    "        debug_entry = {\n",
    "            \"utt_id\": entry[\"utt_id\"],\n",
    "            \"audio_path\": entry[\"audio_path\"],\n",
    "            \"text\": entry[\"text\"],                    # giữ nguyên trường gốc\n",
    "            \"gold_corrected\": entry[\"text\"],          # mapping sang trường chuẩn\n",
    "            \"pred_old\": entry.get(\"base_text\", \"\")    # lấy từ base_text → pred_old\n",
    "        }\n",
    "        debug_entries.append(debug_entry)\n",
    "\n",
    "    with open(output_path, \"w\", encoding=\"utf-8\") as f:\n",
    "        json.dump(debug_entries, f, ensure_ascii=False, indent=2)\n",
    "\n",
    "    print(f\"✅ Chuyển đổi {len(debug_entries)} dòng sang format debug tại: {output_path}\")\n",
    "\n",
    "# 🧪 Ví dụ dùng:\n",
    "base_dir = \"../../../vpb_dataset/standard_test\"\n",
    "# convert_meta_to_debug_format(f\"{base_dir}/next_day_test_meta.json\", f\"{base_dir}/next_day_test_meta_debug.json\")\n",
    "convert_meta_to_debug_format(f\"{base_dir}/test_meta.json\", f\"{base_dir}/test_meta_debug.json\")"
   ]
  },
  {
   "cell_type": "code",
   "execution_count": null,
   "id": "cd820304",
   "metadata": {},
   "outputs": [],
   "source": []
  },
  {
   "cell_type": "code",
   "execution_count": null,
   "id": "f43c4210",
   "metadata": {},
   "outputs": [],
   "source": []
  },
  {
   "cell_type": "code",
   "execution_count": null,
   "id": "bdfa9ea6",
   "metadata": {},
   "outputs": [],
   "source": []
  },
  {
   "cell_type": "code",
   "execution_count": null,
   "id": "ee73a906",
   "metadata": {},
   "outputs": [],
   "source": []
  },
  {
   "cell_type": "code",
   "execution_count": null,
   "id": "55f802cb",
   "metadata": {},
   "outputs": [],
   "source": []
  },
  {
   "cell_type": "code",
   "execution_count": null,
   "metadata": {},
   "outputs": [],
   "source": []
  }
 ],
 "metadata": {
  "kernelspec": {
   "display_name": "Python (stt310)",
   "language": "python",
   "name": "stt310"
  },
  "language_info": {
   "codemirror_mode": {
    "name": "ipython",
    "version": 3
   },
   "file_extension": ".py",
   "mimetype": "text/x-python",
   "name": "python",
   "nbconvert_exporter": "python",
   "pygments_lexer": "ipython3",
   "version": "3.10.18"
  }
 },
 "nbformat": 4,
 "nbformat_minor": 5
}
