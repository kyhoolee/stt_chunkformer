{
 "cells": [
  {
   "cell_type": "code",
   "execution_count": 1,
   "id": "13570b99",
   "metadata": {},
   "outputs": [],
   "source": [
    "#!/usr/bin/env python3\n",
    "import json\n",
    "import sys\n",
    "\n",
    "def filter_buckets(in_path, out_path, remove_buckets=None, bucket_field=\"snr_bucket\"):\n",
    "    if remove_buckets is None:\n",
    "        remove_buckets = [\"noisy\", \"unknown\"]\n",
    "\n",
    "    with open(in_path, \"r\", encoding=\"utf-8\") as f:\n",
    "        data = json.load(f)\n",
    "\n",
    "    if not isinstance(data, list):\n",
    "        raise ValueError(\"Manifest must be a JSON array.\")\n",
    "\n",
    "    filtered = [item for item in data if item.get(bucket_field) not in remove_buckets]\n",
    "\n",
    "    with open(out_path, \"w\", encoding=\"utf-8\") as f:\n",
    "        json.dump(filtered, f, ensure_ascii=False, indent=2)\n",
    "\n",
    "    print(f\"✅ Kept {len(filtered)}/{len(data)} items (removed: {remove_buckets}).\")\n",
    "\n",
    "# if __name__ == \"__main__\":\n",
    "#     if len(sys.argv) < 3:\n",
    "#         print(\"Usage: python filter_buckets.py input.json output.json [bucket1 bucket2 ...]\")\n",
    "#         sys.exit(1)\n",
    "\n",
    "#     in_path = sys.argv[1]\n",
    "#     out_path = sys.argv[2]\n",
    "#     remove_buckets = sys.argv[3:] if len(sys.argv) > 3 else [\"noisy\", \"unknown\"]\n",
    "\n",
    "#     filter_buckets(in_path, out_path, remove_buckets)\n"
   ]
  },
  {
   "cell_type": "code",
   "execution_count": 2,
   "metadata": {},
   "outputs": [
    {
     "name": "stdout",
     "output_type": "stream",
     "text": [
      "✅ Kept 3072/3366 items (removed: ['noisy', 'unknown']).\n"
     ]
    }
   ],
   "source": [
    "in_manifest = \"../../../vpb_dataset/manifest_vpb_right/train_meta_right_2_filtered_snr.json\"\n",
    "out_manifest = \"../../../vpb_dataset/manifest_vpb_right/train_meta_right_2_filtered_snr_clean.json\"\n",
    "\n",
    "\n",
    "filter_buckets(in_manifest, out_manifest)"
   ]
  },
  {
   "cell_type": "code",
   "execution_count": 3,
   "id": "3c4ab644",
   "metadata": {},
   "outputs": [
    {
     "name": "stdout",
     "output_type": "stream",
     "text": [
      "✅ Kept 630/735 items (removed: ['noisy', 'unknown']).\n"
     ]
    }
   ],
   "source": [
    "in_manifest = \"../../../vpb_dataset/manifest_vpb_right/valid_meta_filtered_snr.json\"\n",
    "out_manifest = \"../../../vpb_dataset/manifest_vpb_right/valid_meta_filtered_snr_clean.json\"\n",
    "\n",
    "\n",
    "filter_buckets(in_manifest, out_manifest)"
   ]
  },
  {
   "cell_type": "code",
   "execution_count": 4,
   "id": "9cde62a3",
   "metadata": {},
   "outputs": [
    {
     "name": "stderr",
     "output_type": "stream",
     "text": [
      "/home/kylh/.local/share/mamba/envs/stt310/lib/python3.10/site-packages/tqdm/auto.py:21: TqdmWarning: IProgress not found. Please update jupyter and ipywidgets. See https://ipywidgets.readthedocs.io/en/stable/user_install.html\n",
      "  from .autonotebook import tqdm as notebook_tqdm\n"
     ]
    },
    {
     "name": "stdout",
     "output_type": "stream",
     "text": [
      "===== OVERALL =====\n",
      "📊 Tổng số mẫu: 3023\n",
      "🎯 WER trung bình: 33.80%\n",
      "🅲 CER trung bình: 30.88%\n",
      "🌐 WER toàn cục : 24.00%\n",
      "🌐 CER toàn cục : 18.90%\n",
      "\n",
      "===== BY SNR BUCKET =====\n",
      "[clean]\n",
      "  📦 samples        : 2396\n",
      "  🎯 sample-avg WER : 34.06%\n",
      "  🅲 sample-avg CER : 31.27%\n",
      "  🌐 global WER     : 24.10%\n",
      "  🌐 global CER     : 18.96%\n",
      "\n",
      "[mid]\n",
      "  📦 samples        : 627\n",
      "  🎯 sample-avg WER : 32.79%\n",
      "  🅲 sample-avg CER : 29.40%\n",
      "  🌐 global WER     : 23.60%\n",
      "  🌐 global CER     : 18.84%\n",
      "\n",
      "\n",
      "==================================\n",
      "\n",
      "===== OVERALL =====\n",
      "📊 Tổng số mẫu: 617\n",
      "🎯 WER trung bình: 35.84%\n",
      "🅲 CER trung bình: 31.66%\n",
      "🌐 WER toàn cục : 26.70%\n",
      "🌐 CER toàn cục : 21.09%\n",
      "\n",
      "===== BY SNR BUCKET =====\n",
      "[clean]\n",
      "  📦 samples        : 436\n",
      "  🎯 sample-avg WER : 37.01%\n",
      "  🅲 sample-avg CER : 32.48%\n",
      "  🌐 global WER     : 26.93%\n",
      "  🌐 global CER     : 21.14%\n",
      "\n",
      "[mid]\n",
      "  📦 samples        : 181\n",
      "  🎯 sample-avg WER : 33.03%\n",
      "  🅲 sample-avg CER : 29.67%\n",
      "  🌐 global WER     : 26.19%\n",
      "  🌐 global CER     : 21.05%\n",
      "\n"
     ]
    }
   ],
   "source": [
    "from chunkformer_vpb.training.train import evaluate_from_meta_by_bucket\n",
    "\n",
    "evaluate_from_meta_by_bucket(\"../../../vpb_dataset/manifest_vpb_right/train_meta_right_2_filtered_snr_clean.json\")\n",
    "print(\"\\n==================================\\n\")\n",
    "evaluate_from_meta_by_bucket(\"../../../vpb_dataset/manifest_vpb_right/valid_meta_filtered_snr_clean.json\")\n"
   ]
  },
  {
   "cell_type": "code",
   "execution_count": null,
   "id": "018f38ea",
   "metadata": {},
   "outputs": [],
   "source": []
  },
  {
   "cell_type": "code",
   "execution_count": null,
   "id": "969d3c29",
   "metadata": {},
   "outputs": [],
   "source": []
  },
  {
   "cell_type": "code",
   "execution_count": null,
   "id": "ca369ee5",
   "metadata": {},
   "outputs": [],
   "source": []
  },
  {
   "cell_type": "code",
   "execution_count": null,
   "id": "1d3ef283",
   "metadata": {},
   "outputs": [],
   "source": []
  },
  {
   "cell_type": "code",
   "execution_count": null,
   "id": "62e029a3",
   "metadata": {},
   "outputs": [],
   "source": []
  },
  {
   "cell_type": "code",
   "execution_count": null,
   "id": "1ea6231e",
   "metadata": {},
   "outputs": [],
   "source": []
  },
  {
   "cell_type": "code",
   "execution_count": null,
   "id": "7ecef162",
   "metadata": {},
   "outputs": [],
   "source": []
  }
 ],
 "metadata": {
  "kernelspec": {
   "display_name": "Python (stt310)",
   "language": "python",
   "name": "stt310"
  },
  "language_info": {
   "codemirror_mode": {
    "name": "ipython",
    "version": 3
   },
   "file_extension": ".py",
   "mimetype": "text/x-python",
   "name": "python",
   "nbconvert_exporter": "python",
   "pygments_lexer": "ipython3",
   "version": "3.10.18"
  }
 },
 "nbformat": 4,
 "nbformat_minor": 5
}
