{
 "cells": [
  {
   "cell_type": "code",
   "execution_count": 1,
   "id": "2ba003aa",
   "metadata": {},
   "outputs": [
    {
     "name": "stdout",
     "output_type": "stream",
     "text": [
      "✅ Created 29 entries\n",
      "📄 Saved to: ../../../vpb_dataset/standard_test/test_meta.json\n"
     ]
    }
   ],
   "source": [
    "import os\n",
    "import json\n",
    "from pathlib import Path\n",
    "from chunkformer_vpb.training.tokenizer import normalize_vi\n",
    "\n",
    "def generate_test_meta(base_dir: str):\n",
    "    base = Path(base_dir)\n",
    "    standard_dir = base / \"standard_test\"\n",
    "    transcript_dir = standard_dir / \"transcripts\"\n",
    "    transcript_base = standard_dir / \"transcript_base\"  # ✅ Đường dẫn đúng cho base prediction\n",
    "    wavs_dir = standard_dir / \"wavs\"\n",
    "    output_path = standard_dir / \"test_meta.json\"\n",
    "\n",
    "    entries = []\n",
    "\n",
    "    for txt_file in sorted(transcript_dir.glob(\"*.txt\")):\n",
    "        utt_id = txt_file.stem\n",
    "        wav_file = wavs_dir / f\"{utt_id}.wav\"\n",
    "\n",
    "        if not wav_file.exists():\n",
    "            print(f\"⚠️  Missing audio for {utt_id}\")\n",
    "            continue\n",
    "\n",
    "        with open(txt_file, \"r\", encoding=\"utf-8\") as f:\n",
    "            text = f.read().strip()\n",
    "\n",
    "        if not text:\n",
    "            print(f\"⚠️  Empty transcript for {utt_id}\")\n",
    "            continue\n",
    "\n",
    "        # === Đường dẫn tương đối từ base_dir ===\n",
    "        relative_audio_path = wav_file.relative_to(base)\n",
    "\n",
    "        # === Đọc kết quả dự đoán từ mô hình base ===\n",
    "        base_pred_file = transcript_base / f\"{utt_id}.txt\"\n",
    "        if base_pred_file.exists():\n",
    "            with open(base_pred_file, \"r\", encoding=\"utf-8\") as pf:\n",
    "                base_text = pf.read().strip()\n",
    "        else:\n",
    "            print(f\"⚠️  Missing base prediction for {utt_id}\")\n",
    "            base_text = \"\"\n",
    "\n",
    "        entry = {\n",
    "            \"utt_id\": utt_id,\n",
    "            \"audio_path\": str(relative_audio_path),\n",
    "            \"text\": normalize_vi(text),\n",
    "            \"base_text\": normalize_vi(base_text)\n",
    "        }\n",
    "        entries.append(entry)\n",
    "\n",
    "    with open(output_path, \"w\", encoding=\"utf-8\") as f:\n",
    "        json.dump(entries, f, ensure_ascii=False, indent=2)\n",
    "\n",
    "    print(f\"✅ Created {len(entries)} entries\")\n",
    "    print(f\"📄 Saved to: {output_path}\")\n",
    "\n",
    "# 👉 Cách gọi:\n",
    "if __name__ == \"__main__\":\n",
    "    generate_test_meta(\"../../../vpb_dataset\")\n"
   ]
  },
  {
   "cell_type": "code",
   "execution_count": 1,
   "id": "c38ae89b",
   "metadata": {},
   "outputs": [
    {
     "name": "stderr",
     "output_type": "stream",
     "text": [
      "/home/kylh/.local/share/mamba/envs/stt310/lib/python3.10/site-packages/tqdm/auto.py:21: TqdmWarning: IProgress not found. Please update jupyter and ipywidgets. See https://ipywidgets.readthedocs.io/en/stable/user_install.html\n",
      "  from .autonotebook import tqdm as notebook_tqdm\n"
     ]
    },
    {
     "name": "stdout",
     "output_type": "stream",
     "text": [
      "📊 Tổng số mẫu: 29\n",
      "🎯 WER trung bình (sample avg): 24.87%\n",
      "🌐 WER toàn cục   (global):     16.13%\n"
     ]
    }
   ],
   "source": [
    "from chunkformer_vpb.training.train import evaluate_from_meta\n",
    "\n",
    "evaluate_from_meta(\"../../../vpb_dataset/standard_test/test_meta.json\")"
   ]
  },
  {
   "cell_type": "code",
   "execution_count": null,
   "id": "cd820304",
   "metadata": {},
   "outputs": [],
   "source": []
  },
  {
   "cell_type": "code",
   "execution_count": null,
   "id": "f43c4210",
   "metadata": {},
   "outputs": [],
   "source": []
  },
  {
   "cell_type": "code",
   "execution_count": null,
   "id": "bdfa9ea6",
   "metadata": {},
   "outputs": [],
   "source": []
  },
  {
   "cell_type": "code",
   "execution_count": null,
   "id": "ee73a906",
   "metadata": {},
   "outputs": [],
   "source": []
  },
  {
   "cell_type": "code",
   "execution_count": null,
   "id": "55f802cb",
   "metadata": {},
   "outputs": [],
   "source": []
  },
  {
   "cell_type": "code",
   "execution_count": null,
   "metadata": {},
   "outputs": [],
   "source": []
  }
 ],
 "metadata": {
  "kernelspec": {
   "display_name": "Python (stt310)",
   "language": "python",
   "name": "stt310"
  },
  "language_info": {
   "codemirror_mode": {
    "name": "ipython",
    "version": 3
   },
   "file_extension": ".py",
   "mimetype": "text/x-python",
   "name": "python",
   "nbconvert_exporter": "python",
   "pygments_lexer": "ipython3",
   "version": "3.10.18"
  }
 },
 "nbformat": 4,
 "nbformat_minor": 5
}
