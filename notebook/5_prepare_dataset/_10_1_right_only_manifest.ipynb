{
 "cells": [
  {
   "cell_type": "code",
   "execution_count": null,
   "id": "623f313d",
   "metadata": {},
   "outputs": [],
   "source": []
  },
  {
   "cell_type": "code",
   "execution_count": 1,
   "id": "9aa3fa0d",
   "metadata": {},
   "outputs": [],
   "source": [
    "#!/usr/bin/env python3\n",
    "import sys, json\n",
    "from pathlib import Path\n",
    "\n",
    "def keep_right(obj):\n",
    "    p = obj.get(\"audio_path\") or obj.get(\"wav\") or \"\"\n",
    "    return isinstance(p, str) and \"__right__\" in p\n",
    "\n",
    "def main(inp, outp):\n",
    "    with open(inp, \"r\", encoding=\"utf-8\") as f:\n",
    "        try:\n",
    "            data = json.load(f)  # đọc array JSON\n",
    "        except Exception as e:\n",
    "            sys.stderr.write(f\"Error reading JSON array: {e}\\n\")\n",
    "            sys.exit(1)\n",
    "\n",
    "    if not isinstance(data, list):\n",
    "        sys.stderr.write(\"Input JSON is not an array.\\n\")\n",
    "        sys.exit(1)\n",
    "\n",
    "    filtered = [item for item in data if keep_right(item)]\n",
    "\n",
    "    with open(outp, \"w\", encoding=\"utf-8\") as f:\n",
    "        json.dump(filtered, f, ensure_ascii=False, indent=2)\n",
    "\n",
    "    sys.stderr.write(f\"Done. Kept {len(filtered)}/{len(data)} items with '__right__'.\\n\")\n",
    "\n",
    "\n"
   ]
  },
  {
   "cell_type": "code",
   "execution_count": 2,
   "id": "b953834c",
   "metadata": {},
   "outputs": [
    {
     "name": "stderr",
     "output_type": "stream",
     "text": [
      "Done. Kept 735/996 items with '__right__'.\n"
     ]
    }
   ],
   "source": [
    "input_manifest = \"../../../vpb_dataset/manifest_vpb_right/valid_meta.json\"\n",
    "output_manifest = \"../../../vpb_dataset/manifest_vpb_right/valid_meta_filtered.json\"\n",
    "\n",
    "main(input_manifest, output_manifest)"
   ]
  },
  {
   "cell_type": "code",
   "execution_count": 3,
   "id": "918959d6",
   "metadata": {},
   "outputs": [
    {
     "name": "stderr",
     "output_type": "stream",
     "text": [
      "Done. Kept 3366/5790 items with '__right__'.\n"
     ]
    }
   ],
   "source": [
    "input_manifest = \"../../../vpb_dataset/manifest_vpb_right/train_meta_right_2.json\"\n",
    "output_manifest = \"../../../vpb_dataset/manifest_vpb_right/train_meta_right_2_filtered.json\"\n",
    "main(input_manifest, output_manifest)"
   ]
  },
  {
   "cell_type": "code",
   "execution_count": null,
   "id": "5beff556",
   "metadata": {},
   "outputs": [],
   "source": []
  },
  {
   "cell_type": "code",
   "execution_count": null,
   "id": "c78ba001",
   "metadata": {},
   "outputs": [],
   "source": []
  },
  {
   "cell_type": "code",
   "execution_count": null,
   "id": "7cb86ef7",
   "metadata": {},
   "outputs": [],
   "source": []
  },
  {
   "cell_type": "code",
   "execution_count": null,
   "id": "c792d981",
   "metadata": {},
   "outputs": [],
   "source": []
  },
  {
   "cell_type": "code",
   "execution_count": null,
   "id": "38bba6bd",
   "metadata": {},
   "outputs": [],
   "source": []
  },
  {
   "cell_type": "code",
   "execution_count": null,
   "id": "91cd35f0",
   "metadata": {},
   "outputs": [],
   "source": []
  }
 ],
 "metadata": {
  "kernelspec": {
   "display_name": "Python (stt310)",
   "language": "python",
   "name": "stt310"
  },
  "language_info": {
   "codemirror_mode": {
    "name": "ipython",
    "version": 3
   },
   "file_extension": ".py",
   "mimetype": "text/x-python",
   "name": "python",
   "nbconvert_exporter": "python",
   "pygments_lexer": "ipython3",
   "version": "3.10.18"
  }
 },
 "nbformat": 4,
 "nbformat_minor": 5
}
