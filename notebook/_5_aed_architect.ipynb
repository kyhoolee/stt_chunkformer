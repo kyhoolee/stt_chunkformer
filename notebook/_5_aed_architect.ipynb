{
 "cells": [
  {
   "cell_type": "code",
   "execution_count": 1,
   "id": "e6fd1ab5",
   "metadata": {},
   "outputs": [
    {
     "name": "stdout",
     "output_type": "stream",
     "text": [
      "Module \"torch_npu\" not found. \"pip install torch_npu\"                 if you are using Ascend NPU, otherwise, ignore it\n",
      "\n",
      "🧾 Loaded checkpoint from: ../../chunkformer-large-vie/pytorch_model.bin\n",
      "📦 Checkpoint keys: ['encoder.global_cmvn.mean', 'encoder.global_cmvn.istd', 'encoder.embed.out.weight', 'encoder.embed.out.bias', 'encoder.embed.conv.0.weight'] ... (total 813)\n",
      "🔍 AED decoder head included in checkpoint? ✅ YES\n",
      "📊 Model total params: 113,852,240, trainable: 113,852,240\n",
      "✅ Loaded state_dict with:\n",
      "   🔺 Missing keys: 2\n",
      "     - encoder.ctc.ctc_lo.weight\n",
      "     - encoder.ctc.ctc_lo.bias\n",
      "   ⚠️ Unexpected keys in checkpoint: 166\n",
      "     - decoder.left_decoder.embed.0.weight\n",
      "     - decoder.left_decoder.after_norm.weight\n",
      "     - decoder.left_decoder.after_norm.bias\n",
      "     - decoder.left_decoder.output_layer.weight\n",
      "     - decoder.left_decoder.output_layer.bias\n",
      "     - decoder.left_decoder.decoders.0.self_attn.linear_q.weight\n",
      "     - decoder.left_decoder.decoders.0.self_attn.linear_q.bias\n",
      "     - decoder.left_decoder.decoders.0.self_attn.linear_k.weight\n",
      "     - decoder.left_decoder.decoders.0.self_attn.linear_k.bias\n",
      "     - decoder.left_decoder.decoders.0.self_attn.linear_v.weight\n",
      "     ...\n",
      "✅ Done! Saved model structure to folder: model_architect\n"
     ]
    }
   ],
   "source": [
    "# chunkformer_vpb/inference/dump_model_structure.py\n",
    "\n",
    "import os\n",
    "import torch\n",
    "from chunkformer_vpb.model_utils import init, dump_module_structure\n",
    "\n",
    "\n",
    "\n",
    "def main():\n",
    "    # === Config ===\n",
    "    model_checkpoint = \"../../chunkformer-large-vie\"  # adjust if needed\n",
    "    output_dir = \"model_architect\"\n",
    "    os.makedirs(output_dir, exist_ok=True)\n",
    "\n",
    "    # === Load model ===\n",
    "    device = torch.device(\"cuda\" if torch.cuda.is_available() else \"cpu\")\n",
    "    model, char_dict = init(model_checkpoint, device)\n",
    "    model.eval()\n",
    "\n",
    "    # === Dump full model ===\n",
    "    dump_module_structure(model, os.path.join(output_dir, \"full_model.txt\"), \"Full ASRModel\")\n",
    "\n",
    "    # === Dump encoder ===\n",
    "    dump_module_structure(model.encoder, os.path.join(output_dir, \"encoder.txt\"), \"Encoder\")\n",
    "\n",
    "    # === Dump CTC head ===\n",
    "    dump_module_structure(model.ctc, os.path.join(output_dir, \"ctc.txt\"), \"CTC Head\")\n",
    "\n",
    "    # === Optional: Dump decoder if exists ===\n",
    "    if hasattr(model, \"decoder\"):\n",
    "        dump_module_structure(model.decoder, os.path.join(output_dir, \"decoder.txt\"), \"Decoder\")\n",
    "\n",
    "    print(f\"✅ Done! Saved model structure to folder: {output_dir}\")\n",
    "\n",
    "\n",
    "main()"
   ]
  },
  {
   "cell_type": "code",
   "execution_count": null,
   "id": "c2bfca96",
   "metadata": {},
   "outputs": [],
   "source": []
  },
  {
   "cell_type": "code",
   "execution_count": null,
   "id": "92e58774",
   "metadata": {},
   "outputs": [],
   "source": []
  },
  {
   "cell_type": "code",
   "execution_count": null,
   "id": "8233e085",
   "metadata": {},
   "outputs": [],
   "source": []
  },
  {
   "cell_type": "code",
   "execution_count": null,
   "id": "fe566546",
   "metadata": {},
   "outputs": [],
   "source": []
  }
 ],
 "metadata": {
  "kernelspec": {
   "display_name": "Python 3.10 (stt310)",
   "language": "python",
   "name": "stt310"
  },
  "language_info": {
   "codemirror_mode": {
    "name": "ipython",
    "version": 3
   },
   "file_extension": ".py",
   "mimetype": "text/x-python",
   "name": "python",
   "nbconvert_exporter": "python",
   "pygments_lexer": "ipython3",
   "version": "3.10.18"
  }
 },
 "nbformat": 4,
 "nbformat_minor": 5
}
