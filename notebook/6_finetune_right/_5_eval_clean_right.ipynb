{
 "cells": [
  {
   "cell_type": "code",
   "execution_count": 1,
   "id": "39bc7467",
   "metadata": {},
   "outputs": [
    {
     "name": "stderr",
     "output_type": "stream",
     "text": [
      "/home/kylh/.local/share/mamba/envs/stt310/lib/python3.10/site-packages/tqdm/auto.py:21: TqdmWarning: IProgress not found. Please update jupyter and ipywidgets. See https://ipywidgets.readthedocs.io/en/stable/user_install.html\n",
      "  from .autonotebook import tqdm as notebook_tqdm\n"
     ]
    },
    {
     "name": "stdout",
     "output_type": "stream",
     "text": [
      "Evaluating ./checkpoints_vpb_ctc/epoch20.pt...\n",
      "DataConfigFT(manifest_dir='../../../vpb_dataset/manifest_vpb_right', audio_dir='../../../vpb_dataset', sample_rate=16000, num_mel_bins=80, frame_length=25, frame_shift=10, dither=0.0, energy_floor=0.0, train_meta_file='valid_meta_filtered_snr_clean.json')\n"
     ]
    },
    {
     "name": "stderr",
     "output_type": "stream",
     "text": [
      "[2025-08-13 14:49:28] INFO: Checkpoint: loading from checkpoint ../../../chunkformer-large-vie/pytorch_model.bin for GPU\n"
     ]
    },
    {
     "name": "stdout",
     "output_type": "stream",
     "text": [
      "\n",
      "🧾 Loaded checkpoint from: ../../../chunkformer-large-vie/pytorch_model.bin\n",
      "📦 Checkpoint keys: ['encoder.global_cmvn.mean', 'encoder.global_cmvn.istd', 'encoder.embed.out.weight', 'encoder.embed.out.bias', 'encoder.embed.conv.0.weight'] ... (total 813)\n",
      "🔍 AED decoder head included in checkpoint? ✅ YES\n",
      "📊 Model total params: 113,852,240, trainable: 113,852,240\n",
      "!!!Vocab size: 6992\n",
      "✅ Loading checkpoint from ./checkpoints_vpb_ctc/epoch20.pt for model_id=ctc_epoch20\n",
      "🎯 Dev WER (CTC): 41.16%\n",
      "🌐 Global WER           : 41.22%\n",
      "🕒 Evaluate time: 109.72s (avg decode/sample: 0.17s)\n"
     ]
    }
   ],
   "source": [
    "from chunkformer_vpb.training.tracker import prediction_std_test\n",
    "\n",
    "cfg_path = \"../../config/test_ctc_right_valid.yaml\"\n",
    "cache_path = \"test_prediction_cache.json\"\n",
    "ckpt_paths = [\n",
    "    \"./checkpoints_vpb_ctc/epoch20.pt\", \n",
    "\n",
    "]\n",
    "model_id = \"ctc_epoch20\"\n",
    "\n",
    "\n",
    "for ckpt_path in ckpt_paths:\n",
    "    print(f\"Evaluating {ckpt_path}...\")\n",
    "    # Call the prediction function for each checkpoint\n",
    "    prediction_std_test(\n",
    "        cfg_path=cfg_path,\n",
    "        cache_path=cache_path,\n",
    "        ckpt_path=ckpt_path,\n",
    "        model_id=model_id,\n",
    "        device=\"cpu\",\n",
    "        overwrite=False\n",
    "    )\n"
   ]
  },
  {
   "cell_type": "code",
   "execution_count": 2,
   "id": "edee070d",
   "metadata": {},
   "outputs": [
    {
     "name": "stdout",
     "output_type": "stream",
     "text": [
      "Evaluating ./checkpoints_vpb_ctc/epoch20.pt...\n",
      "DataConfigFT(manifest_dir='../../../vpb_dataset/manifest_vpb_right', audio_dir='../../../vpb_dataset', sample_rate=16000, num_mel_bins=80, frame_length=25, frame_shift=10, dither=0.0, energy_floor=0.0, train_meta_file='train_meta_right_2_filtered_snr_clean.json')\n"
     ]
    },
    {
     "name": "stderr",
     "output_type": "stream",
     "text": [
      "[2025-08-13 14:51:25] INFO: Checkpoint: loading from checkpoint ../../../chunkformer-large-vie/pytorch_model.bin for GPU\n"
     ]
    },
    {
     "name": "stdout",
     "output_type": "stream",
     "text": [
      "\n",
      "🧾 Loaded checkpoint from: ../../../chunkformer-large-vie/pytorch_model.bin\n",
      "📦 Checkpoint keys: ['encoder.global_cmvn.mean', 'encoder.global_cmvn.istd', 'encoder.embed.out.weight', 'encoder.embed.out.bias', 'encoder.embed.conv.0.weight'] ... (total 813)\n",
      "🔍 AED decoder head included in checkpoint? ✅ YES\n",
      "📊 Model total params: 113,852,240, trainable: 113,852,240\n",
      "!!!Vocab size: 6992\n",
      "✅ Loading checkpoint from ./checkpoints_vpb_ctc/epoch20.pt for model_id=ctc_epoch20\n",
      "🎯 Dev WER (CTC): 14.50%\n",
      "🌐 Global WER           : 17.23%\n",
      "🕒 Evaluate time: 523.49s (avg decode/sample: 0.16s)\n"
     ]
    }
   ],
   "source": [
    "from chunkformer_vpb.training.tracker import prediction_std_test\n",
    "\n",
    "cfg_path = \"../../config/test_ctc_right_train.yaml\"\n",
    "cache_path = \"test_prediction_cache.json\"\n",
    "ckpt_paths = [\n",
    "    \"./checkpoints_vpb_ctc/epoch20.pt\", \n",
    "\n",
    "]\n",
    "model_id = \"ctc_epoch20\"\n",
    "\n",
    "\n",
    "for ckpt_path in ckpt_paths:\n",
    "    print(f\"Evaluating {ckpt_path}...\")\n",
    "    # Call the prediction function for each checkpoint\n",
    "    prediction_std_test(\n",
    "        cfg_path=cfg_path,\n",
    "        cache_path=cache_path,\n",
    "        ckpt_path=ckpt_path,\n",
    "        model_id=model_id,\n",
    "        device=\"cpu\",\n",
    "        overwrite=False\n",
    "    )\n"
   ]
  },
  {
   "cell_type": "code",
   "execution_count": 3,
   "id": "8c5af2da",
   "metadata": {},
   "outputs": [
    {
     "name": "stdout",
     "output_type": "stream",
     "text": [
      "Evaluating ./checkpoints_vpb_ctc/epoch10.pt...\n",
      "DataConfigFT(manifest_dir='../../../vpb_dataset/manifest_vpb_right', audio_dir='../../../vpb_dataset', sample_rate=16000, num_mel_bins=80, frame_length=25, frame_shift=10, dither=0.0, energy_floor=0.0, train_meta_file='valid_meta_filtered_snr_clean.json')\n"
     ]
    },
    {
     "name": "stderr",
     "output_type": "stream",
     "text": [
      "[2025-08-13 15:00:11] INFO: Checkpoint: loading from checkpoint ../../../chunkformer-large-vie/pytorch_model.bin for GPU\n"
     ]
    },
    {
     "name": "stdout",
     "output_type": "stream",
     "text": [
      "\n",
      "🧾 Loaded checkpoint from: ../../../chunkformer-large-vie/pytorch_model.bin\n",
      "📦 Checkpoint keys: ['encoder.global_cmvn.mean', 'encoder.global_cmvn.istd', 'encoder.embed.out.weight', 'encoder.embed.out.bias', 'encoder.embed.conv.0.weight'] ... (total 813)\n",
      "🔍 AED decoder head included in checkpoint? ✅ YES\n",
      "📊 Model total params: 113,852,240, trainable: 113,852,240\n",
      "!!!Vocab size: 6992\n",
      "✅ Loading checkpoint from ./checkpoints_vpb_ctc/epoch10.pt for model_id=ctc_epoch10\n",
      "🎯 Dev WER (CTC): 45.12%\n",
      "🌐 Global WER           : 43.39%\n",
      "🕒 Evaluate time: 109.26s (avg decode/sample: 0.17s)\n"
     ]
    }
   ],
   "source": [
    "from chunkformer_vpb.training.tracker import prediction_std_test\n",
    "\n",
    "cfg_path = \"../../config/test_ctc_right_valid.yaml\"\n",
    "cache_path = \"test_prediction_cache.json\"\n",
    "ckpt_paths = [\n",
    "    \"./checkpoints_vpb_ctc/epoch10.pt\", \n",
    "\n",
    "]\n",
    "model_id = \"ctc_epoch10\"\n",
    "\n",
    "\n",
    "for ckpt_path in ckpt_paths:\n",
    "    print(f\"Evaluating {ckpt_path}...\")\n",
    "    # Call the prediction function for each checkpoint\n",
    "    prediction_std_test(\n",
    "        cfg_path=cfg_path,\n",
    "        cache_path=cache_path,\n",
    "        ckpt_path=ckpt_path,\n",
    "        model_id=model_id,\n",
    "        device=\"cpu\",\n",
    "        overwrite=False\n",
    "    )\n"
   ]
  },
  {
   "cell_type": "code",
   "execution_count": 5,
   "id": "53827069",
   "metadata": {},
   "outputs": [
    {
     "name": "stdout",
     "output_type": "stream",
     "text": [
      "Evaluating ./checkpoints_vpb_ctc/epoch10.pt...\n",
      "DataConfigFT(manifest_dir='../../../vpb_dataset/manifest_vpb_right', audio_dir='../../../vpb_dataset', sample_rate=16000, num_mel_bins=80, frame_length=25, frame_shift=10, dither=0.0, energy_floor=0.0, train_meta_file='train_meta_right_2_filtered_snr_clean.json')\n"
     ]
    },
    {
     "name": "stderr",
     "output_type": "stream",
     "text": [
      "[2025-08-13 15:19:42] INFO: Checkpoint: loading from checkpoint ../../../chunkformer-large-vie/pytorch_model.bin for GPU\n"
     ]
    },
    {
     "name": "stdout",
     "output_type": "stream",
     "text": [
      "\n",
      "🧾 Loaded checkpoint from: ../../../chunkformer-large-vie/pytorch_model.bin\n",
      "📦 Checkpoint keys: ['encoder.global_cmvn.mean', 'encoder.global_cmvn.istd', 'encoder.embed.out.weight', 'encoder.embed.out.bias', 'encoder.embed.conv.0.weight'] ... (total 813)\n",
      "🔍 AED decoder head included in checkpoint? ✅ YES\n",
      "📊 Model total params: 113,852,240, trainable: 113,852,240\n",
      "!!!Vocab size: 6992\n",
      "✅ Loading checkpoint from ./checkpoints_vpb_ctc/epoch10.pt for model_id=ctc_epoch10\n",
      "🎯 Dev WER (CTC): 31.84%\n",
      "🌐 Global WER           : 28.38%\n",
      "🕒 Evaluate time: 515.38s (avg decode/sample: 0.16s)\n"
     ]
    }
   ],
   "source": [
    "from chunkformer_vpb.training.tracker import prediction_std_test\n",
    "\n",
    "cfg_path = \"../../config/test_ctc_right_train.yaml\"\n",
    "cache_path = \"test_prediction_cache.json\"\n",
    "ckpt_paths = [\n",
    "    \"./checkpoints_vpb_ctc/epoch10.pt\", \n",
    "\n",
    "]\n",
    "model_id = \"ctc_epoch10\"\n",
    "\n",
    "\n",
    "for ckpt_path in ckpt_paths:\n",
    "    print(f\"Evaluating {ckpt_path}...\")\n",
    "    # Call the prediction function for each checkpoint\n",
    "    prediction_std_test(\n",
    "        cfg_path=cfg_path,\n",
    "        cache_path=cache_path,\n",
    "        ckpt_path=ckpt_path,\n",
    "        model_id=model_id,\n",
    "        device=\"cpu\",\n",
    "        overwrite=False\n",
    "    )\n"
   ]
  },
  {
   "cell_type": "code",
   "execution_count": 6,
   "id": "138a7b16",
   "metadata": {},
   "outputs": [
    {
     "name": "stdout",
     "output_type": "stream",
     "text": [
      "Evaluating ./checkpoints_vpb_ctc/epoch10.pt...\n",
      "DataConfigFT(manifest_dir='../../../vpb_dataset/manifest_vpb_right', audio_dir='../../../vpb_dataset', sample_rate=16000, num_mel_bins=80, frame_length=25, frame_shift=10, dither=0.0, energy_floor=0.0, train_meta_file='valid_meta_filtered_snr_clean.json')\n"
     ]
    },
    {
     "name": "stderr",
     "output_type": "stream",
     "text": [
      "[2025-08-13 15:28:20] INFO: Checkpoint: loading from checkpoint ../../../chunkformer-large-vie/pytorch_model.bin for GPU\n"
     ]
    },
    {
     "name": "stdout",
     "output_type": "stream",
     "text": [
      "\n",
      "🧾 Loaded checkpoint from: ../../../chunkformer-large-vie/pytorch_model.bin\n",
      "📦 Checkpoint keys: ['encoder.global_cmvn.mean', 'encoder.global_cmvn.istd', 'encoder.embed.out.weight', 'encoder.embed.out.bias', 'encoder.embed.conv.0.weight'] ... (total 813)\n",
      "🔍 AED decoder head included in checkpoint? ✅ YES\n",
      "📊 Model total params: 113,852,240, trainable: 113,852,240\n",
      "!!!Vocab size: 6992\n",
      "❌ Checkpoint not found at None. Using base model instead.\n",
      "🎯 Dev WER (CTC): 55.66%\n",
      "🌐 Global WER           : 48.80%\n",
      "🕒 Evaluate time: 98.24s (avg decode/sample: 0.15s)\n"
     ]
    }
   ],
   "source": [
    "from chunkformer_vpb.training.tracker import prediction_std_test\n",
    "\n",
    "cfg_path = \"../../config/test_ctc_right_valid.yaml\"\n",
    "cache_path = \"test_prediction_cache.json\"\n",
    "ckpt_paths = [\n",
    "    \"./checkpoints_vpb_ctc/epoch10.pt\", \n",
    "\n",
    "]\n",
    "model_id = \"ctc_epoch10\"\n",
    "\n",
    "\n",
    "for ckpt_path in ckpt_paths:\n",
    "    print(f\"Evaluating {ckpt_path}...\")\n",
    "    # Call the prediction function for each checkpoint\n",
    "    prediction_std_test(\n",
    "        cfg_path=cfg_path,\n",
    "        cache_path=cache_path,\n",
    "        ckpt_path=None,\n",
    "        model_id=model_id,\n",
    "        device=\"cpu\",\n",
    "        overwrite=False\n",
    "    )\n"
   ]
  },
  {
   "cell_type": "code",
   "execution_count": 7,
   "id": "d6a32d86",
   "metadata": {},
   "outputs": [
    {
     "name": "stdout",
     "output_type": "stream",
     "text": [
      "Evaluating ./checkpoints_vpb_ctc/epoch10.pt...\n",
      "DataConfigFT(manifest_dir='../../../vpb_dataset/manifest_vpb_right', audio_dir='../../../vpb_dataset', sample_rate=16000, num_mel_bins=80, frame_length=25, frame_shift=10, dither=0.0, energy_floor=0.0, train_meta_file='train_meta_right_2_filtered_snr_clean.json')\n"
     ]
    },
    {
     "name": "stderr",
     "output_type": "stream",
     "text": [
      "[2025-08-13 15:30:00] INFO: Checkpoint: loading from checkpoint ../../../chunkformer-large-vie/pytorch_model.bin for GPU\n"
     ]
    },
    {
     "name": "stdout",
     "output_type": "stream",
     "text": [
      "\n",
      "🧾 Loaded checkpoint from: ../../../chunkformer-large-vie/pytorch_model.bin\n",
      "📦 Checkpoint keys: ['encoder.global_cmvn.mean', 'encoder.global_cmvn.istd', 'encoder.embed.out.weight', 'encoder.embed.out.bias', 'encoder.embed.conv.0.weight'] ... (total 813)\n",
      "🔍 AED decoder head included in checkpoint? ✅ YES\n",
      "📊 Model total params: 113,852,240, trainable: 113,852,240\n",
      "!!!Vocab size: 6992\n",
      "❌ Checkpoint not found at None. Using base model instead.\n",
      "🎯 Dev WER (CTC): 49.06%\n",
      "🌐 Global WER           : 37.91%\n",
      "🕒 Evaluate time: 502.13s (avg decode/sample: 0.15s)\n"
     ]
    }
   ],
   "source": [
    "from chunkformer_vpb.training.tracker import prediction_std_test\n",
    "\n",
    "cfg_path = \"../../config/test_ctc_right_train.yaml\"\n",
    "cache_path = \"test_prediction_cache.json\"\n",
    "ckpt_paths = [\n",
    "    \"./checkpoints_vpb_ctc/epoch10.pt\", \n",
    "\n",
    "]\n",
    "model_id = \"ctc_epoch10\"\n",
    "\n",
    "\n",
    "for ckpt_path in ckpt_paths:\n",
    "    print(f\"Evaluating {ckpt_path}...\")\n",
    "    # Call the prediction function for each checkpoint\n",
    "    prediction_std_test(\n",
    "        cfg_path=cfg_path,\n",
    "        cache_path=cache_path,\n",
    "        ckpt_path=None,\n",
    "        model_id=model_id,\n",
    "        device=\"cpu\",\n",
    "        overwrite=False\n",
    "    )\n"
   ]
  },
  {
   "cell_type": "code",
   "execution_count": null,
   "id": "1342ba99",
   "metadata": {},
   "outputs": [],
   "source": []
  }
 ],
 "metadata": {
  "kernelspec": {
   "display_name": "Python (stt310)",
   "language": "python",
   "name": "stt310"
  },
  "language_info": {
   "codemirror_mode": {
    "name": "ipython",
    "version": 3
   },
   "file_extension": ".py",
   "mimetype": "text/x-python",
   "name": "python",
   "nbconvert_exporter": "python",
   "pygments_lexer": "ipython3",
   "version": "3.10.18"
  }
 },
 "nbformat": 4,
 "nbformat_minor": 5
}
