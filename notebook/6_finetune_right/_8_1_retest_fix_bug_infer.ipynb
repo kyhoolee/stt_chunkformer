{
 "cells": [
  {
   "cell_type": "code",
   "execution_count": 1,
   "id": "ee977084",
   "metadata": {},
   "outputs": [
    {
     "name": "stderr",
     "output_type": "stream",
     "text": [
      "/home/kylh/.local/share/mamba/envs/stt310/lib/python3.10/site-packages/tqdm/auto.py:21: TqdmWarning: IProgress not found. Please update jupyter and ipywidgets. See https://ipywidgets.readthedocs.io/en/stable/user_install.html\n",
      "  from .autonotebook import tqdm as notebook_tqdm\n",
      "/home/kylh/.local/share/mamba/envs/stt310/lib/python3.10/site-packages/torch/amp/autocast_mode.py:267: UserWarning: In CPU autocast, but the target dtype is not supported. Disabling autocast.\n",
      "CPU Autocast only supports dtype of torch.bfloat16, torch.float16 currently.\n",
      "  warnings.warn(error_message)\n"
     ]
    },
    {
     "name": "stdout",
     "output_type": "stream",
     "text": [
      "Evaluating ./checkpoints_vpb_ctc/epoch10.pt...\n",
      "DataConfigFT(manifest_dir='../../../vpb_dataset/manifest_vpb_right', audio_dir='../../../vpb_dataset', sample_rate=16000, num_mel_bins=80, frame_length=25, frame_shift=10, dither=0.0, energy_floor=0.0, train_meta_file='valid_meta_filtered_snr_clean.json', valid_meta_file='valid_meta.json')\n"
     ]
    },
    {
     "name": "stderr",
     "output_type": "stream",
     "text": [
      "[2025-08-13 19:28:18] INFO: Checkpoint: loading from checkpoint ../../../chunkformer-large-vie/pytorch_model.bin for GPU\n"
     ]
    },
    {
     "name": "stdout",
     "output_type": "stream",
     "text": [
      "!!!Vocab size: 6992\n",
      "❌ Checkpoint not found at None. Using base model instead.\n",
      "🎯 Dev WER (CTC): 55.51%\n",
      "🌐 Global WER           : 48.63%\n",
      "🕒 Evaluate time: 93.42s (avg decode/sample: 0.14s)\n"
     ]
    }
   ],
   "source": [
    "from chunkformer_vpb.training.tracker import prediction_std_test_v0\n",
    "import torch\n",
    "from contextlib import nullcontext\n",
    "\n",
    "cfg_path = \"../../config/test_ctc_right_valid.yaml\"\n",
    "cache_path = \"test_prediction_cache.json\"\n",
    "ckpt_paths = [\n",
    "    \"./checkpoints_vpb_ctc/epoch10.pt\", \n",
    "\n",
    "]\n",
    "model_id = \"ctc_epoch10\"\n",
    "\n",
    "dtype = torch.float32\n",
    "device = torch.device(\"cpu\")\n",
    "for ckpt_path in ckpt_paths:\n",
    "    print(f\"Evaluating {ckpt_path}...\")\n",
    "    # Call the prediction function for each checkpoint\n",
    "    with torch.autocast(device.type, dtype) if dtype is not None else nullcontext():\n",
    "        prediction_std_test_v0(\n",
    "            cfg_path=cfg_path,\n",
    "            cache_path=cache_path,\n",
    "            ckpt_path=None,\n",
    "            model_id=model_id,\n",
    "            device=\"cpu\",\n",
    "            overwrite=False\n",
    "        )\n"
   ]
  },
  {
   "cell_type": "code",
   "execution_count": null,
   "id": "138a7b16",
   "metadata": {},
   "outputs": [
    {
     "name": "stderr",
     "output_type": "stream",
     "text": [
      "/home/kylh/.local/share/mamba/envs/stt310/lib/python3.10/site-packages/tqdm/auto.py:21: TqdmWarning: IProgress not found. Please update jupyter and ipywidgets. See https://ipywidgets.readthedocs.io/en/stable/user_install.html\n",
      "  from .autonotebook import tqdm as notebook_tqdm\n"
     ]
    },
    {
     "name": "stdout",
     "output_type": "stream",
     "text": [
      "Evaluating ./checkpoints_vpb_ctc/epoch10.pt...\n",
      "DataConfigFT(manifest_dir='../../../vpb_dataset/manifest_vpb_right', audio_dir='../../../vpb_dataset', sample_rate=16000, num_mel_bins=80, frame_length=25, frame_shift=10, dither=0.0, energy_floor=0.0, train_meta_file='valid_meta_filtered_snr_clean.json', valid_meta_file='valid_meta.json')\n"
     ]
    },
    {
     "name": "stderr",
     "output_type": "stream",
     "text": [
      "[2025-08-13 18:02:51] INFO: Checkpoint: loading from checkpoint ../../../chunkformer-large-vie/pytorch_model.bin for GPU\n"
     ]
    },
    {
     "name": "stdout",
     "output_type": "stream",
     "text": [
      "\n",
      "🧾 Loaded checkpoint from: ../../../chunkformer-large-vie/pytorch_model.bin\n",
      "📦 Checkpoint keys: ['encoder.global_cmvn.mean', 'encoder.global_cmvn.istd', 'encoder.embed.out.weight', 'encoder.embed.out.bias', 'encoder.embed.conv.0.weight'] ... (total 813)\n",
      "🔍 AED decoder head included in checkpoint? ✅ YES\n",
      "📊 Model total params: 113,852,240, trainable: 113,852,240\n",
      "!!!Vocab size: 6992\n",
      "❌ Checkpoint not found at None. Using base model instead.\n",
      "🎯 Dev WER (CTC): 55.66%\n",
      "🌐 Global WER           : 48.80%\n",
      "🕒 Evaluate time: 100.92s (avg decode/sample: 0.15s)\n"
     ]
    }
   ],
   "source": [
    "from chunkformer_vpb.training.tracker import prediction_std_test\n",
    "\n",
    "cfg_path = \"../../config/test_ctc_right_valid.yaml\"\n",
    "cache_path = \"test_prediction_cache.json\"\n",
    "ckpt_paths = [\n",
    "    \"./checkpoints_vpb_ctc/epoch10.pt\", \n",
    "\n",
    "]\n",
    "model_id = \"ctc_epoch10\"\n",
    "\n",
    "\n",
    "for ckpt_path in ckpt_paths:\n",
    "    print(f\"Evaluating {ckpt_path}...\")\n",
    "    # Call the prediction function for each checkpoint\n",
    "    prediction_std_test(\n",
    "        cfg_path=cfg_path,\n",
    "        cache_path=cache_path,\n",
    "        ckpt_path=None,\n",
    "        model_id=model_id,\n",
    "        device=\"cpu\",\n",
    "        overwrite=False\n",
    "    )\n"
   ]
  },
  {
   "cell_type": "code",
   "execution_count": null,
   "id": "d6a32d86",
   "metadata": {},
   "outputs": [
    {
     "name": "stdout",
     "output_type": "stream",
     "text": [
      "Evaluating ./checkpoints_vpb_ctc/epoch10.pt...\n",
      "DataConfigFT(manifest_dir='../../../vpb_dataset/manifest_vpb_right', audio_dir='../../../vpb_dataset', sample_rate=16000, num_mel_bins=80, frame_length=25, frame_shift=10, dither=0.0, energy_floor=0.0, train_meta_file='train_meta_right_2_filtered_snr_clean.json', valid_meta_file='valid_meta.json')\n"
     ]
    },
    {
     "name": "stderr",
     "output_type": "stream",
     "text": [
      "[2025-08-13 18:04:34] INFO: Checkpoint: loading from checkpoint ../../../chunkformer-large-vie/pytorch_model.bin for GPU\n"
     ]
    },
    {
     "name": "stdout",
     "output_type": "stream",
     "text": [
      "\n",
      "🧾 Loaded checkpoint from: ../../../chunkformer-large-vie/pytorch_model.bin\n",
      "📦 Checkpoint keys: ['encoder.global_cmvn.mean', 'encoder.global_cmvn.istd', 'encoder.embed.out.weight', 'encoder.embed.out.bias', 'encoder.embed.conv.0.weight'] ... (total 813)\n",
      "🔍 AED decoder head included in checkpoint? ✅ YES\n",
      "📊 Model total params: 113,852,240, trainable: 113,852,240\n",
      "!!!Vocab size: 6992\n",
      "❌ Checkpoint not found at None. Using base model instead.\n",
      "🎯 Dev WER (CTC): 49.06%\n",
      "🌐 Global WER           : 37.91%\n",
      "🕒 Evaluate time: 501.33s (avg decode/sample: 0.16s)\n"
     ]
    }
   ],
   "source": [
    "from chunkformer_vpb.training.tracker import prediction_std_test\n",
    "\n",
    "cfg_path = \"../../config/test_ctc_right_train.yaml\"\n",
    "cache_path = \"test_prediction_cache.json\"\n",
    "ckpt_paths = [\n",
    "    \"./checkpoints_vpb_ctc/epoch10.pt\", \n",
    "\n",
    "]\n",
    "model_id = \"ctc_epoch10\"\n",
    "\n",
    "\n",
    "for ckpt_path in ckpt_paths:\n",
    "    print(f\"Evaluating {ckpt_path}...\")\n",
    "    # Call the prediction function for each checkpoint\n",
    "    prediction_std_test(\n",
    "        cfg_path=cfg_path,\n",
    "        cache_path=cache_path,\n",
    "        ckpt_path=None,\n",
    "        model_id=model_id,\n",
    "        device=\"cpu\",\n",
    "        overwrite=False\n",
    "    )\n"
   ]
  },
  {
   "cell_type": "code",
   "execution_count": null,
   "id": "1342ba99",
   "metadata": {},
   "outputs": [],
   "source": []
  }
 ],
 "metadata": {
  "kernelspec": {
   "display_name": "Python (stt310)",
   "language": "python",
   "name": "stt310"
  },
  "language_info": {
   "codemirror_mode": {
    "name": "ipython",
    "version": 3
   },
   "file_extension": ".py",
   "mimetype": "text/x-python",
   "name": "python",
   "nbconvert_exporter": "python",
   "pygments_lexer": "ipython3",
   "version": "3.10.18"
  }
 },
 "nbformat": 4,
 "nbformat_minor": 5
}
